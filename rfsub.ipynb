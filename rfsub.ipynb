{
  "cells": [
    {
      "cell_type": "code",
      "source": [
        "!pip install dtreeviz\n",
        "\n",
        "from pandas.api.types import is_string_dtype, is_numeric_dtype, is_categorical_dtype\n",
        "from fastai.tabular.all import *\n",
        "from sklearn.ensemble import RandomForestRegressor\n",
        "from sklearn.tree import DecisionTreeRegressor\n",
        "from dtreeviz.trees import *\n",
        "from IPython.display import Image, display_svg, SVG\n",
        "\n",
        "pd.options.display.max_rows = 20\n",
        "pd.options.display.max_columns = 8"
      ],
      "metadata": {
        "colab": {
          "base_uri": "https://localhost:8080/"
        },
        "id": "Nu9amCHu_t2V",
        "outputId": "cc5f66b8-1f0d-4f75-dba3-0c48c091bc49"
      },
      "execution_count": 3,
      "outputs": [
        {
          "output_type": "stream",
          "name": "stdout",
          "text": [
            "Collecting dtreeviz\n",
            "  Downloading dtreeviz-2.2.1-py3-none-any.whl (91 kB)\n",
            "\u001b[?25l     \u001b[90m━━━━━━━━━━━━━━━━━━━━━━━━━━━━━━━━━━━━━━━━\u001b[0m \u001b[32m0.0/91.5 kB\u001b[0m \u001b[31m?\u001b[0m eta \u001b[36m-:--:--\u001b[0m\r\u001b[2K     \u001b[91m━━━━━━━━━━━━━━━━━━━━━━━━━━━━━━━━━━━\u001b[0m\u001b[91m╸\u001b[0m\u001b[90m━━━━\u001b[0m \u001b[32m81.9/91.5 kB\u001b[0m \u001b[31m6.3 MB/s\u001b[0m eta \u001b[36m0:00:01\u001b[0m\r\u001b[2K     \u001b[90m━━━━━━━━━━━━━━━━━━━━━━━━━━━━━━━━━━━━━━━━\u001b[0m \u001b[32m91.5/91.5 kB\u001b[0m \u001b[31m2.3 MB/s\u001b[0m eta \u001b[36m0:00:00\u001b[0m\n",
            "\u001b[?25hRequirement already satisfied: graphviz>=0.9 in /usr/local/lib/python3.10/dist-packages (from dtreeviz) (0.20.1)\n",
            "Requirement already satisfied: pandas in /usr/local/lib/python3.10/dist-packages (from dtreeviz) (1.5.3)\n",
            "Requirement already satisfied: numpy in /usr/local/lib/python3.10/dist-packages (from dtreeviz) (1.22.4)\n",
            "Requirement already satisfied: scikit-learn in /usr/local/lib/python3.10/dist-packages (from dtreeviz) (1.2.2)\n",
            "Requirement already satisfied: matplotlib in /usr/local/lib/python3.10/dist-packages (from dtreeviz) (3.7.1)\n",
            "Collecting colour (from dtreeviz)\n",
            "  Downloading colour-0.1.5-py2.py3-none-any.whl (23 kB)\n",
            "Requirement already satisfied: pytest in /usr/local/lib/python3.10/dist-packages (from dtreeviz) (7.2.2)\n",
            "Requirement already satisfied: contourpy>=1.0.1 in /usr/local/lib/python3.10/dist-packages (from matplotlib->dtreeviz) (1.1.0)\n",
            "Requirement already satisfied: cycler>=0.10 in /usr/local/lib/python3.10/dist-packages (from matplotlib->dtreeviz) (0.11.0)\n",
            "Requirement already satisfied: fonttools>=4.22.0 in /usr/local/lib/python3.10/dist-packages (from matplotlib->dtreeviz) (4.40.0)\n",
            "Requirement already satisfied: kiwisolver>=1.0.1 in /usr/local/lib/python3.10/dist-packages (from matplotlib->dtreeviz) (1.4.4)\n",
            "Requirement already satisfied: packaging>=20.0 in /usr/local/lib/python3.10/dist-packages (from matplotlib->dtreeviz) (23.1)\n",
            "Requirement already satisfied: pillow>=6.2.0 in /usr/local/lib/python3.10/dist-packages (from matplotlib->dtreeviz) (8.4.0)\n",
            "Requirement already satisfied: pyparsing>=2.3.1 in /usr/local/lib/python3.10/dist-packages (from matplotlib->dtreeviz) (3.1.0)\n",
            "Requirement already satisfied: python-dateutil>=2.7 in /usr/local/lib/python3.10/dist-packages (from matplotlib->dtreeviz) (2.8.2)\n",
            "Requirement already satisfied: pytz>=2020.1 in /usr/local/lib/python3.10/dist-packages (from pandas->dtreeviz) (2022.7.1)\n",
            "Requirement already satisfied: attrs>=19.2.0 in /usr/local/lib/python3.10/dist-packages (from pytest->dtreeviz) (23.1.0)\n",
            "Requirement already satisfied: iniconfig in /usr/local/lib/python3.10/dist-packages (from pytest->dtreeviz) (2.0.0)\n",
            "Requirement already satisfied: pluggy<2.0,>=0.12 in /usr/local/lib/python3.10/dist-packages (from pytest->dtreeviz) (1.2.0)\n",
            "Requirement already satisfied: exceptiongroup>=1.0.0rc8 in /usr/local/lib/python3.10/dist-packages (from pytest->dtreeviz) (1.1.1)\n",
            "Requirement already satisfied: tomli>=1.0.0 in /usr/local/lib/python3.10/dist-packages (from pytest->dtreeviz) (2.0.1)\n",
            "Requirement already satisfied: scipy>=1.3.2 in /usr/local/lib/python3.10/dist-packages (from scikit-learn->dtreeviz) (1.10.1)\n",
            "Requirement already satisfied: joblib>=1.1.1 in /usr/local/lib/python3.10/dist-packages (from scikit-learn->dtreeviz) (1.2.0)\n",
            "Requirement already satisfied: threadpoolctl>=2.0.0 in /usr/local/lib/python3.10/dist-packages (from scikit-learn->dtreeviz) (3.1.0)\n",
            "Requirement already satisfied: six>=1.5 in /usr/local/lib/python3.10/dist-packages (from python-dateutil>=2.7->matplotlib->dtreeviz) (1.16.0)\n",
            "Installing collected packages: colour, dtreeviz\n",
            "Successfully installed colour-0.1.5 dtreeviz-2.2.1\n"
          ]
        }
      ]
    },
    {
      "cell_type": "code",
      "source": [
        "crds = '{\"username\":\"ankitkanani\",\"key\":\"094b4deedf1d7bef8637d4f1e0f19e02\"}'"
      ],
      "metadata": {
        "id": "Cm8N67zq_LOn"
      },
      "execution_count": 4,
      "outputs": []
    },
    {
      "cell_type": "code",
      "source": [
        "comp = 'bluebook-for-bulldozers'\n",
        "path = URLs.path(comp)\n",
        "path"
      ],
      "metadata": {
        "colab": {
          "base_uri": "https://localhost:8080/"
        },
        "id": "enuHcvOF_P91",
        "outputId": "80cdc212-df58-4ce0-e80f-111afef3056d"
      },
      "execution_count": 5,
      "outputs": [
        {
          "output_type": "execute_result",
          "data": {
            "text/plain": [
              "Path('/root/.fastai/archive/bluebook-for-bulldozers')"
            ]
          },
          "metadata": {},
          "execution_count": 5
        }
      ]
    },
    {
      "cell_type": "code",
      "source": [
        "cred_path = Path('~/.kaggle/kaggle.json').expanduser()\n",
        "if not cred_path.exists():\n",
        "    cred_path.parent.mkdir(exist_ok=True)\n",
        "    cred_path.write_text(crds)\n",
        "    cred_path.chmod(0o600)"
      ],
      "metadata": {
        "id": "g7693SCg_OiQ"
      },
      "execution_count": 6,
      "outputs": []
    },
    {
      "cell_type": "code",
      "source": [
        "from kaggle import api\n",
        "\n",
        "if not path.exists():\n",
        "    path.mkdir(parents=true)\n",
        "    api.competition_download_cli(comp, path=path)\n",
        "    shutil.unpack_archive(str(path/f'{comp}.zip'), str(path))\n",
        "\n",
        "path.ls(file_type='text')"
      ],
      "metadata": {
        "colab": {
          "base_uri": "https://localhost:8080/"
        },
        "id": "mMreXKq8_UXI",
        "outputId": "fe1c4c21-10b5-44b8-94c1-3cc05d5f4e1e"
      },
      "execution_count": 7,
      "outputs": [
        {
          "output_type": "stream",
          "name": "stdout",
          "text": [
            "Downloading bluebook-for-bulldozers.zip to /root/.fastai/archive/bluebook-for-bulldozers\n"
          ]
        },
        {
          "output_type": "stream",
          "name": "stderr",
          "text": [
            "100%|██████████| 48.4M/48.4M [00:00<00:00, 92.8MB/s]\n"
          ]
        },
        {
          "output_type": "stream",
          "name": "stdout",
          "text": [
            "\n"
          ]
        },
        {
          "output_type": "execute_result",
          "data": {
            "text/plain": [
              "(#7) [Path('/root/.fastai/archive/bluebook-for-bulldozers/Valid.csv'),Path('/root/.fastai/archive/bluebook-for-bulldozers/Test.csv'),Path('/root/.fastai/archive/bluebook-for-bulldozers/Machine_Appendix.csv'),Path('/root/.fastai/archive/bluebook-for-bulldozers/ValidSolution.csv'),Path('/root/.fastai/archive/bluebook-for-bulldozers/median_benchmark.csv'),Path('/root/.fastai/archive/bluebook-for-bulldozers/random_forest_benchmark_test.csv'),Path('/root/.fastai/archive/bluebook-for-bulldozers/TrainAndValid.csv')]"
            ]
          },
          "metadata": {},
          "execution_count": 7
        }
      ]
    },
    {
      "cell_type": "code",
      "execution_count": 8,
      "metadata": {
        "execution": {
          "iopub.execute_input": "2023-06-27T09:58:31.760493Z",
          "iopub.status.busy": "2023-06-27T09:58:31.760113Z",
          "iopub.status.idle": "2023-06-27T09:58:32.025947Z",
          "shell.execute_reply": "2023-06-27T09:58:32.024769Z",
          "shell.execute_reply.started": "2023-06-27T09:58:31.760457Z"
        },
        "trusted": true,
        "id": "HkEfi-Hi-bwk"
      },
      "outputs": [],
      "source": [
        "from fastai.imports import *\n",
        "np.set_printoptions(linewidth=130)"
      ]
    },
    {
      "cell_type": "code",
      "execution_count": 9,
      "metadata": {
        "execution": {
          "iopub.execute_input": "2023-06-27T09:58:32.186225Z",
          "iopub.status.busy": "2023-06-27T09:58:32.028092Z",
          "iopub.status.idle": "2023-06-27T09:58:32.195505Z",
          "shell.execute_reply": "2023-06-27T09:58:32.194702Z",
          "shell.execute_reply.started": "2023-06-27T09:58:32.186173Z"
        },
        "trusted": true,
        "id": "gBAlnrW6-bwn"
      },
      "outputs": [],
      "source": [
        "import numpy as np\n",
        "import pandas as pd"
      ]
    },
    {
      "cell_type": "code",
      "execution_count": 10,
      "metadata": {
        "execution": {
          "iopub.execute_input": "2023-06-27T09:58:32.198394Z",
          "iopub.status.busy": "2023-06-27T09:58:32.197959Z",
          "iopub.status.idle": "2023-06-27T09:58:38.029387Z",
          "shell.execute_reply": "2023-06-27T09:58:38.028465Z",
          "shell.execute_reply.started": "2023-06-27T09:58:32.198356Z"
        },
        "trusted": true,
        "id": "2go23rvs-bwn"
      },
      "outputs": [],
      "source": [
        "# df = pd.read_csv(\"/kaggle/input/bluebook-for-bulldozers/TrainAndValid.csv\", low_memory= False)\n",
        "df = pd.read_csv(path/\"TrainAndValid.csv\", low_memory= False)\n"
      ]
    },
    {
      "cell_type": "code",
      "execution_count": 11,
      "metadata": {
        "execution": {
          "iopub.execute_input": "2023-06-27T09:58:38.033610Z",
          "iopub.status.busy": "2023-06-27T09:58:38.032712Z",
          "iopub.status.idle": "2023-06-27T09:58:38.043809Z",
          "shell.execute_reply": "2023-06-27T09:58:38.042595Z",
          "shell.execute_reply.started": "2023-06-27T09:58:38.033563Z"
        },
        "trusted": true,
        "colab": {
          "base_uri": "https://localhost:8080/"
        },
        "id": "6vcodb7l-bwo",
        "outputId": "4391a2c7-805d-4416-8dae-86cbb134a37c"
      },
      "outputs": [
        {
          "output_type": "execute_result",
          "data": {
            "text/plain": [
              "Index(['SalesID', 'SalePrice', 'MachineID', 'ModelID', 'datasource',\n",
              "       'auctioneerID', 'YearMade', 'MachineHoursCurrentMeter', 'UsageBand',\n",
              "       'saledate', 'fiModelDesc', 'fiBaseModel', 'fiSecondaryDesc',\n",
              "       'fiModelSeries', 'fiModelDescriptor', 'ProductSize',\n",
              "       'fiProductClassDesc', 'state', 'ProductGroup', 'ProductGroupDesc',\n",
              "       'Drive_System', 'Enclosure', 'Forks', 'Pad_Type', 'Ride_Control',\n",
              "       'Stick', 'Transmission', 'Turbocharged', 'Blade_Extension',\n",
              "       'Blade_Width', 'Enclosure_Type', 'Engine_Horsepower', 'Hydraulics',\n",
              "       'Pushblock', 'Ripper', 'Scarifier', 'Tip_Control', 'Tire_Size',\n",
              "       'Coupler', 'Coupler_System', 'Grouser_Tracks', 'Hydraulics_Flow',\n",
              "       'Track_Type', 'Undercarriage_Pad_Width', 'Stick_Length', 'Thumb',\n",
              "       'Pattern_Changer', 'Grouser_Type', 'Backhoe_Mounting', 'Blade_Type',\n",
              "       'Travel_Controls', 'Differential_Type', 'Steering_Controls'],\n",
              "      dtype='object')"
            ]
          },
          "metadata": {},
          "execution_count": 11
        }
      ],
      "source": [
        "df.columns"
      ]
    },
    {
      "cell_type": "code",
      "execution_count": 12,
      "metadata": {
        "execution": {
          "iopub.execute_input": "2023-06-27T09:58:38.048534Z",
          "iopub.status.busy": "2023-06-27T09:58:38.048157Z",
          "iopub.status.idle": "2023-06-27T09:58:38.096250Z",
          "shell.execute_reply": "2023-06-27T09:58:38.094970Z",
          "shell.execute_reply.started": "2023-06-27T09:58:38.048500Z"
        },
        "trusted": true,
        "colab": {
          "base_uri": "https://localhost:8080/"
        },
        "id": "pHhdOL-T-bwo",
        "outputId": "773b0074-affe-4dd3-a130-d570c1dd3d29"
      },
      "outputs": [
        {
          "output_type": "execute_result",
          "data": {
            "text/plain": [
              "array([nan, 'Medium', 'Small', 'Large / Medium', 'Mini', 'Large', 'Compact'], dtype=object)"
            ]
          },
          "metadata": {},
          "execution_count": 12
        }
      ],
      "source": [
        "df['ProductSize'].unique()"
      ]
    },
    {
      "cell_type": "code",
      "execution_count": 13,
      "metadata": {
        "execution": {
          "iopub.execute_input": "2023-06-27T09:58:38.098374Z",
          "iopub.status.busy": "2023-06-27T09:58:38.097836Z",
          "iopub.status.idle": "2023-06-27T09:58:38.407747Z",
          "shell.execute_reply": "2023-06-27T09:58:38.406457Z",
          "shell.execute_reply.started": "2023-06-27T09:58:38.098333Z"
        },
        "trusted": true,
        "colab": {
          "base_uri": "https://localhost:8080/"
        },
        "id": "e4MgAiho-bwo",
        "outputId": "0f559531-4e66-426e-9566-61ad22879423"
      },
      "outputs": [
        {
          "output_type": "stream",
          "name": "stderr",
          "text": [
            "<ipython-input-13-ff316e50b17f>:3: FutureWarning: The `inplace` parameter in pandas.Categorical.set_categories is deprecated and will be removed in a future version. Removing unused categories will always return a new Categorical object.\n"
          ]
        }
      ],
      "source": [
        "sizes = 'Large', 'Large/Medium', 'Medium', 'Small', 'Mini', 'Compact'\n",
        "df['ProductSize'] = df['ProductSize'].astype('category')\n",
        "df['ProductSize'].cat.set_categories(sizes, ordered = True, inplace = True)"
      ]
    },
    {
      "cell_type": "code",
      "execution_count": 14,
      "metadata": {
        "execution": {
          "iopub.execute_input": "2023-06-27T09:58:38.409985Z",
          "iopub.status.busy": "2023-06-27T09:58:38.409449Z",
          "iopub.status.idle": "2023-06-27T09:58:38.416040Z",
          "shell.execute_reply": "2023-06-27T09:58:38.414429Z",
          "shell.execute_reply.started": "2023-06-27T09:58:38.409941Z"
        },
        "trusted": true,
        "id": "sPTCjSnH-bwo"
      },
      "outputs": [],
      "source": [
        "dep_var = 'SalePrice'"
      ]
    },
    {
      "cell_type": "code",
      "execution_count": 15,
      "metadata": {
        "execution": {
          "iopub.execute_input": "2023-06-27T09:58:38.418758Z",
          "iopub.status.busy": "2023-06-27T09:58:38.417721Z",
          "iopub.status.idle": "2023-06-27T09:58:38.441345Z",
          "shell.execute_reply": "2023-06-27T09:58:38.440215Z",
          "shell.execute_reply.started": "2023-06-27T09:58:38.418717Z"
        },
        "trusted": true,
        "id": "HzGOpTnV-bwp"
      },
      "outputs": [],
      "source": [
        "df[dep_var] = np.log(df[dep_var])"
      ]
    },
    {
      "cell_type": "code",
      "execution_count": 16,
      "metadata": {
        "execution": {
          "iopub.execute_input": "2023-06-27T09:58:38.443534Z",
          "iopub.status.busy": "2023-06-27T09:58:38.443131Z",
          "iopub.status.idle": "2023-06-27T09:58:38.453678Z",
          "shell.execute_reply": "2023-06-27T09:58:38.452404Z",
          "shell.execute_reply.started": "2023-06-27T09:58:38.443496Z"
        },
        "trusted": true,
        "colab": {
          "base_uri": "https://localhost:8080/"
        },
        "id": "0KcxU5kP-bwp",
        "outputId": "8d6a13c1-a671-41b4-ac12-ff8279bae6ea"
      },
      "outputs": [
        {
          "output_type": "execute_result",
          "data": {
            "text/plain": [
              "0    11.097410\n",
              "1    10.950807\n",
              "2     9.210340\n",
              "3    10.558414\n",
              "4     9.305651\n",
              "Name: SalePrice, dtype: float64"
            ]
          },
          "metadata": {},
          "execution_count": 16
        }
      ],
      "source": [
        "df[dep_var].head()"
      ]
    },
    {
      "cell_type": "code",
      "execution_count": 17,
      "metadata": {
        "execution": {
          "iopub.execute_input": "2023-06-27T09:58:38.459397Z",
          "iopub.status.busy": "2023-06-27T09:58:38.459083Z",
          "iopub.status.idle": "2023-06-27T09:58:44.335075Z",
          "shell.execute_reply": "2023-06-27T09:58:44.334183Z",
          "shell.execute_reply.started": "2023-06-27T09:58:38.459371Z"
        },
        "trusted": true,
        "id": "b87bqqvq-bwp"
      },
      "outputs": [],
      "source": [
        "from fastai.tabular.all import add_datepart\n",
        "df=add_datepart(df, 'saledate')\n",
        "df_test = pd.read_csv(path/'Test.csv')\n",
        "df_valid = pd.read_csv(path/'Valid.csv')\n",
        "\n",
        "df_test = add_datepart(df_test, 'saledate')\n",
        "df_valid = add_datepart(df_valid, 'saledate')"
      ]
    },
    {
      "cell_type": "code",
      "execution_count": 18,
      "metadata": {
        "execution": {
          "iopub.execute_input": "2023-06-27T09:58:44.337837Z",
          "iopub.status.busy": "2023-06-27T09:58:44.336729Z",
          "iopub.status.idle": "2023-06-27T09:58:44.346164Z",
          "shell.execute_reply": "2023-06-27T09:58:44.344986Z",
          "shell.execute_reply.started": "2023-06-27T09:58:44.337794Z"
        },
        "trusted": true,
        "colab": {
          "base_uri": "https://localhost:8080/",
          "height": 54
        },
        "id": "z2liYYMs-bwq",
        "outputId": "1894a07a-8972-463c-f2c9-f605d0da5cfa"
      },
      "outputs": [
        {
          "output_type": "execute_result",
          "data": {
            "text/plain": [
              "'saleYear saleMonth saleWeek saleDay saleDayofweek saleDayofyear saleIs_month_end saleIs_month_start saleIs_quarter_end saleIs_quarter_start saleIs_year_end saleIs_year_start saleElapsed'"
            ],
            "application/vnd.google.colaboratory.intrinsic+json": {
              "type": "string"
            }
          },
          "metadata": {},
          "execution_count": 18
        }
      ],
      "source": [
        "' '.join(o for o in df.columns if o.startswith('sale'))"
      ]
    },
    {
      "cell_type": "markdown",
      "metadata": {
        "id": "izMQn6_6-bwq"
      },
      "source": [
        "We have a timeseries data. Therefore, we cant just create any randon validation set. We will use front part of the train data as train set and later some proportion of the df as validation set."
      ]
    },
    {
      "cell_type": "code",
      "execution_count": 19,
      "metadata": {
        "execution": {
          "iopub.execute_input": "2023-06-27T09:58:44.348853Z",
          "iopub.status.busy": "2023-06-27T09:58:44.347663Z",
          "iopub.status.idle": "2023-06-27T09:58:44.402683Z",
          "shell.execute_reply": "2023-06-27T09:58:44.401513Z",
          "shell.execute_reply.started": "2023-06-27T09:58:44.348809Z"
        },
        "trusted": true,
        "colab": {
          "base_uri": "https://localhost:8080/",
          "height": 235
        },
        "id": "d5FrVc4_-bwr",
        "outputId": "d88f3b35-ab24-4b47-fa63-4cb3de0b8a31"
      },
      "outputs": [
        {
          "output_type": "execute_result",
          "data": {
            "text/plain": [
              "   SalesID  SalePrice  MachineID  ModelID  ...  saleIs_quarter_start  \\\n",
              "0  1139246  11.097410     999089     3157  ...                 False   \n",
              "1  1139248  10.950807     117657       77  ...                 False   \n",
              "2  1139249   9.210340     434808     7009  ...                 False   \n",
              "3  1139251  10.558414    1026470      332  ...                 False   \n",
              "4  1139253   9.305651    1057373    17311  ...                 False   \n",
              "\n",
              "   saleIs_year_end  saleIs_year_start   saleElapsed  \n",
              "0            False              False  1.163635e+09  \n",
              "1            False              False  1.080259e+09  \n",
              "2            False              False  1.077754e+09  \n",
              "3            False              False  1.305763e+09  \n",
              "4            False              False  1.248307e+09  \n",
              "\n",
              "[5 rows x 65 columns]"
            ],
            "text/html": [
              "\n",
              "  <div id=\"df-9592dacf-871f-4c0c-810a-fd00c432e284\">\n",
              "    <div class=\"colab-df-container\">\n",
              "      <div>\n",
              "<style scoped>\n",
              "    .dataframe tbody tr th:only-of-type {\n",
              "        vertical-align: middle;\n",
              "    }\n",
              "\n",
              "    .dataframe tbody tr th {\n",
              "        vertical-align: top;\n",
              "    }\n",
              "\n",
              "    .dataframe thead th {\n",
              "        text-align: right;\n",
              "    }\n",
              "</style>\n",
              "<table border=\"1\" class=\"dataframe\">\n",
              "  <thead>\n",
              "    <tr style=\"text-align: right;\">\n",
              "      <th></th>\n",
              "      <th>SalesID</th>\n",
              "      <th>SalePrice</th>\n",
              "      <th>MachineID</th>\n",
              "      <th>ModelID</th>\n",
              "      <th>...</th>\n",
              "      <th>saleIs_quarter_start</th>\n",
              "      <th>saleIs_year_end</th>\n",
              "      <th>saleIs_year_start</th>\n",
              "      <th>saleElapsed</th>\n",
              "    </tr>\n",
              "  </thead>\n",
              "  <tbody>\n",
              "    <tr>\n",
              "      <th>0</th>\n",
              "      <td>1139246</td>\n",
              "      <td>11.097410</td>\n",
              "      <td>999089</td>\n",
              "      <td>3157</td>\n",
              "      <td>...</td>\n",
              "      <td>False</td>\n",
              "      <td>False</td>\n",
              "      <td>False</td>\n",
              "      <td>1.163635e+09</td>\n",
              "    </tr>\n",
              "    <tr>\n",
              "      <th>1</th>\n",
              "      <td>1139248</td>\n",
              "      <td>10.950807</td>\n",
              "      <td>117657</td>\n",
              "      <td>77</td>\n",
              "      <td>...</td>\n",
              "      <td>False</td>\n",
              "      <td>False</td>\n",
              "      <td>False</td>\n",
              "      <td>1.080259e+09</td>\n",
              "    </tr>\n",
              "    <tr>\n",
              "      <th>2</th>\n",
              "      <td>1139249</td>\n",
              "      <td>9.210340</td>\n",
              "      <td>434808</td>\n",
              "      <td>7009</td>\n",
              "      <td>...</td>\n",
              "      <td>False</td>\n",
              "      <td>False</td>\n",
              "      <td>False</td>\n",
              "      <td>1.077754e+09</td>\n",
              "    </tr>\n",
              "    <tr>\n",
              "      <th>3</th>\n",
              "      <td>1139251</td>\n",
              "      <td>10.558414</td>\n",
              "      <td>1026470</td>\n",
              "      <td>332</td>\n",
              "      <td>...</td>\n",
              "      <td>False</td>\n",
              "      <td>False</td>\n",
              "      <td>False</td>\n",
              "      <td>1.305763e+09</td>\n",
              "    </tr>\n",
              "    <tr>\n",
              "      <th>4</th>\n",
              "      <td>1139253</td>\n",
              "      <td>9.305651</td>\n",
              "      <td>1057373</td>\n",
              "      <td>17311</td>\n",
              "      <td>...</td>\n",
              "      <td>False</td>\n",
              "      <td>False</td>\n",
              "      <td>False</td>\n",
              "      <td>1.248307e+09</td>\n",
              "    </tr>\n",
              "  </tbody>\n",
              "</table>\n",
              "<p>5 rows × 65 columns</p>\n",
              "</div>\n",
              "      <button class=\"colab-df-convert\" onclick=\"convertToInteractive('df-9592dacf-871f-4c0c-810a-fd00c432e284')\"\n",
              "              title=\"Convert this dataframe to an interactive table.\"\n",
              "              style=\"display:none;\">\n",
              "        \n",
              "  <svg xmlns=\"http://www.w3.org/2000/svg\" height=\"24px\"viewBox=\"0 0 24 24\"\n",
              "       width=\"24px\">\n",
              "    <path d=\"M0 0h24v24H0V0z\" fill=\"none\"/>\n",
              "    <path d=\"M18.56 5.44l.94 2.06.94-2.06 2.06-.94-2.06-.94-.94-2.06-.94 2.06-2.06.94zm-11 1L8.5 8.5l.94-2.06 2.06-.94-2.06-.94L8.5 2.5l-.94 2.06-2.06.94zm10 10l.94 2.06.94-2.06 2.06-.94-2.06-.94-.94-2.06-.94 2.06-2.06.94z\"/><path d=\"M17.41 7.96l-1.37-1.37c-.4-.4-.92-.59-1.43-.59-.52 0-1.04.2-1.43.59L10.3 9.45l-7.72 7.72c-.78.78-.78 2.05 0 2.83L4 21.41c.39.39.9.59 1.41.59.51 0 1.02-.2 1.41-.59l7.78-7.78 2.81-2.81c.8-.78.8-2.07 0-2.86zM5.41 20L4 18.59l7.72-7.72 1.47 1.35L5.41 20z\"/>\n",
              "  </svg>\n",
              "      </button>\n",
              "      \n",
              "  <style>\n",
              "    .colab-df-container {\n",
              "      display:flex;\n",
              "      flex-wrap:wrap;\n",
              "      gap: 12px;\n",
              "    }\n",
              "\n",
              "    .colab-df-convert {\n",
              "      background-color: #E8F0FE;\n",
              "      border: none;\n",
              "      border-radius: 50%;\n",
              "      cursor: pointer;\n",
              "      display: none;\n",
              "      fill: #1967D2;\n",
              "      height: 32px;\n",
              "      padding: 0 0 0 0;\n",
              "      width: 32px;\n",
              "    }\n",
              "\n",
              "    .colab-df-convert:hover {\n",
              "      background-color: #E2EBFA;\n",
              "      box-shadow: 0px 1px 2px rgba(60, 64, 67, 0.3), 0px 1px 3px 1px rgba(60, 64, 67, 0.15);\n",
              "      fill: #174EA6;\n",
              "    }\n",
              "\n",
              "    [theme=dark] .colab-df-convert {\n",
              "      background-color: #3B4455;\n",
              "      fill: #D2E3FC;\n",
              "    }\n",
              "\n",
              "    [theme=dark] .colab-df-convert:hover {\n",
              "      background-color: #434B5C;\n",
              "      box-shadow: 0px 1px 3px 1px rgba(0, 0, 0, 0.15);\n",
              "      filter: drop-shadow(0px 1px 2px rgba(0, 0, 0, 0.3));\n",
              "      fill: #FFFFFF;\n",
              "    }\n",
              "  </style>\n",
              "\n",
              "      <script>\n",
              "        const buttonEl =\n",
              "          document.querySelector('#df-9592dacf-871f-4c0c-810a-fd00c432e284 button.colab-df-convert');\n",
              "        buttonEl.style.display =\n",
              "          google.colab.kernel.accessAllowed ? 'block' : 'none';\n",
              "\n",
              "        async function convertToInteractive(key) {\n",
              "          const element = document.querySelector('#df-9592dacf-871f-4c0c-810a-fd00c432e284');\n",
              "          const dataTable =\n",
              "            await google.colab.kernel.invokeFunction('convertToInteractive',\n",
              "                                                     [key], {});\n",
              "          if (!dataTable) return;\n",
              "\n",
              "          const docLinkHtml = 'Like what you see? Visit the ' +\n",
              "            '<a target=\"_blank\" href=https://colab.research.google.com/notebooks/data_table.ipynb>data table notebook</a>'\n",
              "            + ' to learn more about interactive tables.';\n",
              "          element.innerHTML = '';\n",
              "          dataTable['output_type'] = 'display_data';\n",
              "          await google.colab.output.renderOutput(dataTable, element);\n",
              "          const docLink = document.createElement('div');\n",
              "          docLink.innerHTML = docLinkHtml;\n",
              "          element.appendChild(docLink);\n",
              "        }\n",
              "      </script>\n",
              "    </div>\n",
              "  </div>\n",
              "  "
            ]
          },
          "metadata": {},
          "execution_count": 19
        }
      ],
      "source": [
        "df.head()"
      ]
    },
    {
      "cell_type": "code",
      "execution_count": 20,
      "metadata": {
        "execution": {
          "iopub.execute_input": "2023-06-27T09:58:44.404656Z",
          "iopub.status.busy": "2023-06-27T09:58:44.404238Z",
          "iopub.status.idle": "2023-06-27T09:58:44.414712Z",
          "shell.execute_reply": "2023-06-27T09:58:44.413386Z",
          "shell.execute_reply.started": "2023-06-27T09:58:44.404618Z"
        },
        "trusted": true,
        "id": "yMGEsTue-bwr"
      },
      "outputs": [],
      "source": [
        "condition = (df.saleYear<2011) | (df.saleMonth<10)\n",
        "train_idx = np.where(condition)[0]\n",
        "valid_idx = np.where(~condition)[0]"
      ]
    },
    {
      "cell_type": "code",
      "execution_count": 21,
      "metadata": {
        "execution": {
          "iopub.execute_input": "2023-06-27T09:58:44.418207Z",
          "iopub.status.busy": "2023-06-27T09:58:44.416519Z",
          "iopub.status.idle": "2023-06-27T09:58:44.465964Z",
          "shell.execute_reply": "2023-06-27T09:58:44.464704Z",
          "shell.execute_reply.started": "2023-06-27T09:58:44.418162Z"
        },
        "trusted": true,
        "id": "E4vJLBai-bws"
      },
      "outputs": [],
      "source": [
        "splits = (list(train_idx), list(valid_idx))"
      ]
    },
    {
      "cell_type": "code",
      "execution_count": 22,
      "metadata": {
        "execution": {
          "iopub.execute_input": "2023-06-27T09:58:44.468382Z",
          "iopub.status.busy": "2023-06-27T09:58:44.468029Z",
          "iopub.status.idle": "2023-06-27T09:58:44.479742Z",
          "shell.execute_reply": "2023-06-27T09:58:44.478422Z",
          "shell.execute_reply.started": "2023-06-27T09:58:44.468354Z"
        },
        "trusted": true,
        "id": "hr6MyEmp-bws"
      },
      "outputs": [],
      "source": [
        "from fastai.tabular.all import *"
      ]
    },
    {
      "cell_type": "code",
      "execution_count": 23,
      "metadata": {
        "execution": {
          "iopub.execute_input": "2023-06-27T09:58:44.481862Z",
          "iopub.status.busy": "2023-06-27T09:58:44.481428Z",
          "iopub.status.idle": "2023-06-27T09:58:44.584670Z",
          "shell.execute_reply": "2023-06-27T09:58:44.583704Z",
          "shell.execute_reply.started": "2023-06-27T09:58:44.481823Z"
        },
        "trusted": true,
        "id": "3qmSw2yA-bws"
      },
      "outputs": [],
      "source": [
        "cont, cats = cont_cat_split(df, 1, dep_var = dep_var)"
      ]
    },
    {
      "cell_type": "code",
      "execution_count": 24,
      "metadata": {
        "execution": {
          "iopub.execute_input": "2023-06-27T09:58:44.586635Z",
          "iopub.status.busy": "2023-06-27T09:58:44.586213Z",
          "iopub.status.idle": "2023-06-27T09:58:47.434899Z",
          "shell.execute_reply": "2023-06-27T09:58:47.433757Z",
          "shell.execute_reply.started": "2023-06-27T09:58:44.586595Z"
        },
        "trusted": true,
        "id": "V2OOSWuC-bws"
      },
      "outputs": [],
      "source": [
        "pocs = [Categorify, FillMissing]\n",
        "to = TabularPandas(df, pocs, cats, cont, y_names=dep_var, splits= splits)"
      ]
    },
    {
      "cell_type": "code",
      "execution_count": 25,
      "metadata": {
        "execution": {
          "iopub.execute_input": "2023-06-27T09:58:47.436620Z",
          "iopub.status.busy": "2023-06-27T09:58:47.436279Z",
          "iopub.status.idle": "2023-06-27T09:58:47.478666Z",
          "shell.execute_reply": "2023-06-27T09:58:47.477574Z",
          "shell.execute_reply.started": "2023-06-27T09:58:47.436591Z"
        },
        "trusted": true,
        "colab": {
          "base_uri": "https://localhost:8080/"
        },
        "id": "TshK9zpL-bws",
        "outputId": "30ac2dfd-8d5b-449b-e580-2688e9e8f8b8"
      },
      "outputs": [
        {
          "output_type": "execute_result",
          "data": {
            "text/plain": [
              "(404710, 7988)"
            ]
          },
          "metadata": {},
          "execution_count": 25
        }
      ],
      "source": [
        "len(to.train), len(to.valid)"
      ]
    },
    {
      "cell_type": "code",
      "execution_count": 26,
      "metadata": {
        "execution": {
          "iopub.execute_input": "2023-06-27T09:58:47.480749Z",
          "iopub.status.busy": "2023-06-27T09:58:47.480323Z",
          "iopub.status.idle": "2023-06-27T09:58:47.615086Z",
          "shell.execute_reply": "2023-06-27T09:58:47.614237Z",
          "shell.execute_reply.started": "2023-06-27T09:58:47.480712Z"
        },
        "trusted": true,
        "colab": {
          "base_uri": "https://localhost:8080/",
          "height": 365
        },
        "id": "BtX19HOB-bwt",
        "outputId": "0e5e11f8-b44d-4d73-e2d5-7125b282ed54"
      },
      "outputs": [
        {
          "output_type": "display_data",
          "data": {
            "text/plain": [
              "<IPython.core.display.HTML object>"
            ],
            "text/html": [
              "<table border=\"1\" class=\"dataframe\">\n",
              "  <thead>\n",
              "    <tr style=\"text-align: right;\">\n",
              "      <th></th>\n",
              "      <th>UsageBand</th>\n",
              "      <th>fiModelDesc</th>\n",
              "      <th>fiBaseModel</th>\n",
              "      <th>fiSecondaryDesc</th>\n",
              "      <th>fiModelSeries</th>\n",
              "      <th>fiModelDescriptor</th>\n",
              "      <th>ProductSize</th>\n",
              "      <th>fiProductClassDesc</th>\n",
              "      <th>state</th>\n",
              "      <th>ProductGroup</th>\n",
              "      <th>ProductGroupDesc</th>\n",
              "      <th>Drive_System</th>\n",
              "      <th>Enclosure</th>\n",
              "      <th>Forks</th>\n",
              "      <th>Pad_Type</th>\n",
              "      <th>Ride_Control</th>\n",
              "      <th>Stick</th>\n",
              "      <th>Transmission</th>\n",
              "      <th>Turbocharged</th>\n",
              "      <th>Blade_Extension</th>\n",
              "      <th>Blade_Width</th>\n",
              "      <th>Enclosure_Type</th>\n",
              "      <th>Engine_Horsepower</th>\n",
              "      <th>Hydraulics</th>\n",
              "      <th>Pushblock</th>\n",
              "      <th>Ripper</th>\n",
              "      <th>Scarifier</th>\n",
              "      <th>Tip_Control</th>\n",
              "      <th>Tire_Size</th>\n",
              "      <th>Coupler</th>\n",
              "      <th>Coupler_System</th>\n",
              "      <th>Grouser_Tracks</th>\n",
              "      <th>Hydraulics_Flow</th>\n",
              "      <th>Track_Type</th>\n",
              "      <th>Undercarriage_Pad_Width</th>\n",
              "      <th>Stick_Length</th>\n",
              "      <th>Thumb</th>\n",
              "      <th>Pattern_Changer</th>\n",
              "      <th>Grouser_Type</th>\n",
              "      <th>Backhoe_Mounting</th>\n",
              "      <th>Blade_Type</th>\n",
              "      <th>Travel_Controls</th>\n",
              "      <th>Differential_Type</th>\n",
              "      <th>Steering_Controls</th>\n",
              "      <th>saleIs_month_end</th>\n",
              "      <th>saleIs_month_start</th>\n",
              "      <th>saleIs_quarter_end</th>\n",
              "      <th>saleIs_quarter_start</th>\n",
              "      <th>saleIs_year_end</th>\n",
              "      <th>saleIs_year_start</th>\n",
              "      <th>auctioneerID_na</th>\n",
              "      <th>MachineHoursCurrentMeter_na</th>\n",
              "      <th>SalesID</th>\n",
              "      <th>MachineID</th>\n",
              "      <th>ModelID</th>\n",
              "      <th>datasource</th>\n",
              "      <th>auctioneerID</th>\n",
              "      <th>YearMade</th>\n",
              "      <th>MachineHoursCurrentMeter</th>\n",
              "      <th>saleYear</th>\n",
              "      <th>saleMonth</th>\n",
              "      <th>saleWeek</th>\n",
              "      <th>saleDay</th>\n",
              "      <th>saleDayofweek</th>\n",
              "      <th>saleDayofyear</th>\n",
              "      <th>saleElapsed</th>\n",
              "      <th>SalePrice</th>\n",
              "    </tr>\n",
              "  </thead>\n",
              "  <tbody>\n",
              "    <tr>\n",
              "      <th>0</th>\n",
              "      <td>Low</td>\n",
              "      <td>521D</td>\n",
              "      <td>521</td>\n",
              "      <td>D</td>\n",
              "      <td>#na#</td>\n",
              "      <td>#na#</td>\n",
              "      <td>#na#</td>\n",
              "      <td>Wheel Loader - 110.0 to 120.0 Horsepower</td>\n",
              "      <td>Alabama</td>\n",
              "      <td>WL</td>\n",
              "      <td>Wheel Loader</td>\n",
              "      <td>#na#</td>\n",
              "      <td>EROPS w AC</td>\n",
              "      <td>None or Unspecified</td>\n",
              "      <td>#na#</td>\n",
              "      <td>None or Unspecified</td>\n",
              "      <td>#na#</td>\n",
              "      <td>#na#</td>\n",
              "      <td>#na#</td>\n",
              "      <td>#na#</td>\n",
              "      <td>#na#</td>\n",
              "      <td>#na#</td>\n",
              "      <td>#na#</td>\n",
              "      <td>2 Valve</td>\n",
              "      <td>#na#</td>\n",
              "      <td>#na#</td>\n",
              "      <td>#na#</td>\n",
              "      <td>#na#</td>\n",
              "      <td>None or Unspecified</td>\n",
              "      <td>None or Unspecified</td>\n",
              "      <td>#na#</td>\n",
              "      <td>#na#</td>\n",
              "      <td>#na#</td>\n",
              "      <td>#na#</td>\n",
              "      <td>#na#</td>\n",
              "      <td>#na#</td>\n",
              "      <td>#na#</td>\n",
              "      <td>#na#</td>\n",
              "      <td>#na#</td>\n",
              "      <td>#na#</td>\n",
              "      <td>#na#</td>\n",
              "      <td>#na#</td>\n",
              "      <td>Standard</td>\n",
              "      <td>Conventional</td>\n",
              "      <td>False</td>\n",
              "      <td>False</td>\n",
              "      <td>False</td>\n",
              "      <td>False</td>\n",
              "      <td>False</td>\n",
              "      <td>False</td>\n",
              "      <td>False</td>\n",
              "      <td>False</td>\n",
              "      <td>1139246</td>\n",
              "      <td>999089</td>\n",
              "      <td>3157</td>\n",
              "      <td>121</td>\n",
              "      <td>3.0</td>\n",
              "      <td>2004</td>\n",
              "      <td>68.0</td>\n",
              "      <td>2006</td>\n",
              "      <td>11</td>\n",
              "      <td>46</td>\n",
              "      <td>16</td>\n",
              "      <td>3</td>\n",
              "      <td>320</td>\n",
              "      <td>1.163635e+09</td>\n",
              "      <td>11.097410</td>\n",
              "    </tr>\n",
              "    <tr>\n",
              "      <th>1</th>\n",
              "      <td>Low</td>\n",
              "      <td>950FII</td>\n",
              "      <td>950</td>\n",
              "      <td>F</td>\n",
              "      <td>II</td>\n",
              "      <td>#na#</td>\n",
              "      <td>Medium</td>\n",
              "      <td>Wheel Loader - 150.0 to 175.0 Horsepower</td>\n",
              "      <td>North Carolina</td>\n",
              "      <td>WL</td>\n",
              "      <td>Wheel Loader</td>\n",
              "      <td>#na#</td>\n",
              "      <td>EROPS w AC</td>\n",
              "      <td>None or Unspecified</td>\n",
              "      <td>#na#</td>\n",
              "      <td>None or Unspecified</td>\n",
              "      <td>#na#</td>\n",
              "      <td>#na#</td>\n",
              "      <td>#na#</td>\n",
              "      <td>#na#</td>\n",
              "      <td>#na#</td>\n",
              "      <td>#na#</td>\n",
              "      <td>#na#</td>\n",
              "      <td>2 Valve</td>\n",
              "      <td>#na#</td>\n",
              "      <td>#na#</td>\n",
              "      <td>#na#</td>\n",
              "      <td>#na#</td>\n",
              "      <td>23.5</td>\n",
              "      <td>None or Unspecified</td>\n",
              "      <td>#na#</td>\n",
              "      <td>#na#</td>\n",
              "      <td>#na#</td>\n",
              "      <td>#na#</td>\n",
              "      <td>#na#</td>\n",
              "      <td>#na#</td>\n",
              "      <td>#na#</td>\n",
              "      <td>#na#</td>\n",
              "      <td>#na#</td>\n",
              "      <td>#na#</td>\n",
              "      <td>#na#</td>\n",
              "      <td>#na#</td>\n",
              "      <td>Standard</td>\n",
              "      <td>Conventional</td>\n",
              "      <td>False</td>\n",
              "      <td>False</td>\n",
              "      <td>False</td>\n",
              "      <td>False</td>\n",
              "      <td>False</td>\n",
              "      <td>False</td>\n",
              "      <td>False</td>\n",
              "      <td>False</td>\n",
              "      <td>1139248</td>\n",
              "      <td>117657</td>\n",
              "      <td>77</td>\n",
              "      <td>121</td>\n",
              "      <td>3.0</td>\n",
              "      <td>1996</td>\n",
              "      <td>4640.0</td>\n",
              "      <td>2004</td>\n",
              "      <td>3</td>\n",
              "      <td>13</td>\n",
              "      <td>26</td>\n",
              "      <td>4</td>\n",
              "      <td>86</td>\n",
              "      <td>1.080259e+09</td>\n",
              "      <td>10.950807</td>\n",
              "    </tr>\n",
              "    <tr>\n",
              "      <th>2</th>\n",
              "      <td>High</td>\n",
              "      <td>226</td>\n",
              "      <td>226</td>\n",
              "      <td>#na#</td>\n",
              "      <td>#na#</td>\n",
              "      <td>#na#</td>\n",
              "      <td>#na#</td>\n",
              "      <td>Skid Steer Loader - 1351.0 to 1601.0 Lb Operating Capacity</td>\n",
              "      <td>New York</td>\n",
              "      <td>SSL</td>\n",
              "      <td>Skid Steer Loaders</td>\n",
              "      <td>#na#</td>\n",
              "      <td>OROPS</td>\n",
              "      <td>None or Unspecified</td>\n",
              "      <td>#na#</td>\n",
              "      <td>#na#</td>\n",
              "      <td>#na#</td>\n",
              "      <td>#na#</td>\n",
              "      <td>#na#</td>\n",
              "      <td>#na#</td>\n",
              "      <td>#na#</td>\n",
              "      <td>#na#</td>\n",
              "      <td>#na#</td>\n",
              "      <td>Auxiliary</td>\n",
              "      <td>#na#</td>\n",
              "      <td>#na#</td>\n",
              "      <td>#na#</td>\n",
              "      <td>#na#</td>\n",
              "      <td>#na#</td>\n",
              "      <td>None or Unspecified</td>\n",
              "      <td>None or Unspecified</td>\n",
              "      <td>None or Unspecified</td>\n",
              "      <td>Standard</td>\n",
              "      <td>#na#</td>\n",
              "      <td>#na#</td>\n",
              "      <td>#na#</td>\n",
              "      <td>#na#</td>\n",
              "      <td>#na#</td>\n",
              "      <td>#na#</td>\n",
              "      <td>#na#</td>\n",
              "      <td>#na#</td>\n",
              "      <td>#na#</td>\n",
              "      <td>#na#</td>\n",
              "      <td>#na#</td>\n",
              "      <td>False</td>\n",
              "      <td>False</td>\n",
              "      <td>False</td>\n",
              "      <td>False</td>\n",
              "      <td>False</td>\n",
              "      <td>False</td>\n",
              "      <td>False</td>\n",
              "      <td>False</td>\n",
              "      <td>1139249</td>\n",
              "      <td>434808</td>\n",
              "      <td>7009</td>\n",
              "      <td>121</td>\n",
              "      <td>3.0</td>\n",
              "      <td>2001</td>\n",
              "      <td>2838.0</td>\n",
              "      <td>2004</td>\n",
              "      <td>2</td>\n",
              "      <td>9</td>\n",
              "      <td>26</td>\n",
              "      <td>3</td>\n",
              "      <td>57</td>\n",
              "      <td>1.077754e+09</td>\n",
              "      <td>9.210340</td>\n",
              "    </tr>\n",
              "    <tr>\n",
              "      <th>3</th>\n",
              "      <td>High</td>\n",
              "      <td>PC120-6E</td>\n",
              "      <td>PC120</td>\n",
              "      <td>#na#</td>\n",
              "      <td>-6E</td>\n",
              "      <td>#na#</td>\n",
              "      <td>Small</td>\n",
              "      <td>Hydraulic Excavator, Track - 12.0 to 14.0 Metric Tons</td>\n",
              "      <td>Texas</td>\n",
              "      <td>TEX</td>\n",
              "      <td>Track Excavators</td>\n",
              "      <td>#na#</td>\n",
              "      <td>EROPS w AC</td>\n",
              "      <td>#na#</td>\n",
              "      <td>#na#</td>\n",
              "      <td>#na#</td>\n",
              "      <td>#na#</td>\n",
              "      <td>#na#</td>\n",
              "      <td>#na#</td>\n",
              "      <td>#na#</td>\n",
              "      <td>#na#</td>\n",
              "      <td>#na#</td>\n",
              "      <td>#na#</td>\n",
              "      <td>2 Valve</td>\n",
              "      <td>#na#</td>\n",
              "      <td>#na#</td>\n",
              "      <td>#na#</td>\n",
              "      <td>#na#</td>\n",
              "      <td>#na#</td>\n",
              "      <td>None or Unspecified</td>\n",
              "      <td>#na#</td>\n",
              "      <td>#na#</td>\n",
              "      <td>#na#</td>\n",
              "      <td>#na#</td>\n",
              "      <td>#na#</td>\n",
              "      <td>#na#</td>\n",
              "      <td>#na#</td>\n",
              "      <td>#na#</td>\n",
              "      <td>#na#</td>\n",
              "      <td>#na#</td>\n",
              "      <td>#na#</td>\n",
              "      <td>#na#</td>\n",
              "      <td>#na#</td>\n",
              "      <td>#na#</td>\n",
              "      <td>False</td>\n",
              "      <td>False</td>\n",
              "      <td>False</td>\n",
              "      <td>False</td>\n",
              "      <td>False</td>\n",
              "      <td>False</td>\n",
              "      <td>False</td>\n",
              "      <td>False</td>\n",
              "      <td>1139251</td>\n",
              "      <td>1026470</td>\n",
              "      <td>332</td>\n",
              "      <td>121</td>\n",
              "      <td>3.0</td>\n",
              "      <td>2001</td>\n",
              "      <td>3486.0</td>\n",
              "      <td>2011</td>\n",
              "      <td>5</td>\n",
              "      <td>20</td>\n",
              "      <td>19</td>\n",
              "      <td>3</td>\n",
              "      <td>139</td>\n",
              "      <td>1.305763e+09</td>\n",
              "      <td>10.558414</td>\n",
              "    </tr>\n",
              "    <tr>\n",
              "      <th>4</th>\n",
              "      <td>Medium</td>\n",
              "      <td>S175</td>\n",
              "      <td>S175</td>\n",
              "      <td>#na#</td>\n",
              "      <td>#na#</td>\n",
              "      <td>#na#</td>\n",
              "      <td>#na#</td>\n",
              "      <td>Skid Steer Loader - 1601.0 to 1751.0 Lb Operating Capacity</td>\n",
              "      <td>New York</td>\n",
              "      <td>SSL</td>\n",
              "      <td>Skid Steer Loaders</td>\n",
              "      <td>#na#</td>\n",
              "      <td>EROPS</td>\n",
              "      <td>None or Unspecified</td>\n",
              "      <td>#na#</td>\n",
              "      <td>#na#</td>\n",
              "      <td>#na#</td>\n",
              "      <td>#na#</td>\n",
              "      <td>#na#</td>\n",
              "      <td>#na#</td>\n",
              "      <td>#na#</td>\n",
              "      <td>#na#</td>\n",
              "      <td>#na#</td>\n",
              "      <td>Auxiliary</td>\n",
              "      <td>#na#</td>\n",
              "      <td>#na#</td>\n",
              "      <td>#na#</td>\n",
              "      <td>#na#</td>\n",
              "      <td>#na#</td>\n",
              "      <td>None or Unspecified</td>\n",
              "      <td>None or Unspecified</td>\n",
              "      <td>None or Unspecified</td>\n",
              "      <td>Standard</td>\n",
              "      <td>#na#</td>\n",
              "      <td>#na#</td>\n",
              "      <td>#na#</td>\n",
              "      <td>#na#</td>\n",
              "      <td>#na#</td>\n",
              "      <td>#na#</td>\n",
              "      <td>#na#</td>\n",
              "      <td>#na#</td>\n",
              "      <td>#na#</td>\n",
              "      <td>#na#</td>\n",
              "      <td>#na#</td>\n",
              "      <td>False</td>\n",
              "      <td>False</td>\n",
              "      <td>False</td>\n",
              "      <td>False</td>\n",
              "      <td>False</td>\n",
              "      <td>False</td>\n",
              "      <td>False</td>\n",
              "      <td>False</td>\n",
              "      <td>1139253</td>\n",
              "      <td>1057373</td>\n",
              "      <td>17311</td>\n",
              "      <td>121</td>\n",
              "      <td>3.0</td>\n",
              "      <td>2007</td>\n",
              "      <td>722.0</td>\n",
              "      <td>2009</td>\n",
              "      <td>7</td>\n",
              "      <td>30</td>\n",
              "      <td>23</td>\n",
              "      <td>3</td>\n",
              "      <td>204</td>\n",
              "      <td>1.248307e+09</td>\n",
              "      <td>9.305651</td>\n",
              "    </tr>\n",
              "  </tbody>\n",
              "</table>"
            ]
          },
          "metadata": {}
        }
      ],
      "source": [
        "to.show(5)"
      ]
    },
    {
      "cell_type": "code",
      "execution_count": 27,
      "metadata": {
        "execution": {
          "iopub.execute_input": "2023-06-27T09:58:47.617395Z",
          "iopub.status.busy": "2023-06-27T09:58:47.616751Z",
          "iopub.status.idle": "2023-06-27T09:58:47.623672Z",
          "shell.execute_reply": "2023-06-27T09:58:47.622642Z",
          "shell.execute_reply.started": "2023-06-27T09:58:47.617362Z"
        },
        "trusted": true,
        "colab": {
          "base_uri": "https://localhost:8080/"
        },
        "id": "BRPBFrvG-bwt",
        "outputId": "3b92e327-07ec-4cd7-f00c-9c6850a447b2"
      },
      "outputs": [
        {
          "output_type": "execute_result",
          "data": {
            "text/plain": [
              "['#na#', 'Large', 'Large/Medium', 'Medium', 'Small', 'Mini', 'Compact']"
            ]
          },
          "metadata": {},
          "execution_count": 27
        }
      ],
      "source": [
        "to.classes['ProductSize']"
      ]
    },
    {
      "cell_type": "code",
      "execution_count": 28,
      "metadata": {
        "execution": {
          "iopub.execute_input": "2023-06-27T09:58:47.625505Z",
          "iopub.status.busy": "2023-06-27T09:58:47.625127Z",
          "iopub.status.idle": "2023-06-27T09:58:47.685180Z",
          "shell.execute_reply": "2023-06-27T09:58:47.684294Z",
          "shell.execute_reply.started": "2023-06-27T09:58:47.625475Z"
        },
        "trusted": true,
        "id": "iFCJxq-G-bwt"
      },
      "outputs": [],
      "source": [
        "save_pickle('to.pkl', to)"
      ]
    },
    {
      "cell_type": "code",
      "execution_count": 29,
      "metadata": {
        "execution": {
          "iopub.execute_input": "2023-06-27T09:58:47.687257Z",
          "iopub.status.busy": "2023-06-27T09:58:47.686662Z",
          "iopub.status.idle": "2023-06-27T09:58:47.707710Z",
          "shell.execute_reply": "2023-06-27T09:58:47.706552Z",
          "shell.execute_reply.started": "2023-06-27T09:58:47.687224Z"
        },
        "trusted": true,
        "id": "UbjziolS-bwt"
      },
      "outputs": [],
      "source": [
        "to= load_pickle('to.pkl')"
      ]
    },
    {
      "cell_type": "code",
      "execution_count": 30,
      "metadata": {
        "execution": {
          "iopub.execute_input": "2023-06-27T09:58:47.710225Z",
          "iopub.status.busy": "2023-06-27T09:58:47.709450Z",
          "iopub.status.idle": "2023-06-27T09:58:47.782444Z",
          "shell.execute_reply": "2023-06-27T09:58:47.781335Z",
          "shell.execute_reply.started": "2023-06-27T09:58:47.710189Z"
        },
        "trusted": true,
        "id": "IvAEuLTj-bwt"
      },
      "outputs": [],
      "source": [
        "xs, y = to.train.xs, to.train.y\n",
        "valid_xs, valid_y = to.valid.xs, to.valid.y"
      ]
    },
    {
      "cell_type": "code",
      "execution_count": 31,
      "metadata": {
        "execution": {
          "iopub.execute_input": "2023-06-27T09:58:47.784641Z",
          "iopub.status.busy": "2023-06-27T09:58:47.784299Z",
          "iopub.status.idle": "2023-06-27T09:58:47.793466Z",
          "shell.execute_reply": "2023-06-27T09:58:47.792323Z",
          "shell.execute_reply.started": "2023-06-27T09:58:47.784610Z"
        },
        "trusted": true,
        "id": "6y5jLYl8-bwu"
      },
      "outputs": [],
      "source": [
        "xs.loc[xs['YearMade']<1900, 'YearMade'] = 1950\n",
        "valid_xs.loc[valid_xs['YearMade']<1900, 'YearMade'] = 1950"
      ]
    },
    {
      "cell_type": "code",
      "execution_count": 32,
      "metadata": {
        "execution": {
          "iopub.execute_input": "2023-06-27T09:58:47.795733Z",
          "iopub.status.busy": "2023-06-27T09:58:47.795323Z",
          "iopub.status.idle": "2023-06-27T09:58:50.344970Z",
          "shell.execute_reply": "2023-06-27T09:58:50.343809Z",
          "shell.execute_reply.started": "2023-06-27T09:58:47.795703Z"
        },
        "trusted": true,
        "colab": {
          "base_uri": "https://localhost:8080/",
          "height": 74
        },
        "id": "fQ5yhJEK-bwu",
        "outputId": "8fe461b3-744d-498d-d1f4-6175bd545ccf"
      },
      "outputs": [
        {
          "output_type": "execute_result",
          "data": {
            "text/plain": [
              "DecisionTreeRegressor(max_leaf_nodes=4)"
            ],
            "text/html": [
              "<style>#sk-container-id-1 {color: black;background-color: white;}#sk-container-id-1 pre{padding: 0;}#sk-container-id-1 div.sk-toggleable {background-color: white;}#sk-container-id-1 label.sk-toggleable__label {cursor: pointer;display: block;width: 100%;margin-bottom: 0;padding: 0.3em;box-sizing: border-box;text-align: center;}#sk-container-id-1 label.sk-toggleable__label-arrow:before {content: \"▸\";float: left;margin-right: 0.25em;color: #696969;}#sk-container-id-1 label.sk-toggleable__label-arrow:hover:before {color: black;}#sk-container-id-1 div.sk-estimator:hover label.sk-toggleable__label-arrow:before {color: black;}#sk-container-id-1 div.sk-toggleable__content {max-height: 0;max-width: 0;overflow: hidden;text-align: left;background-color: #f0f8ff;}#sk-container-id-1 div.sk-toggleable__content pre {margin: 0.2em;color: black;border-radius: 0.25em;background-color: #f0f8ff;}#sk-container-id-1 input.sk-toggleable__control:checked~div.sk-toggleable__content {max-height: 200px;max-width: 100%;overflow: auto;}#sk-container-id-1 input.sk-toggleable__control:checked~label.sk-toggleable__label-arrow:before {content: \"▾\";}#sk-container-id-1 div.sk-estimator input.sk-toggleable__control:checked~label.sk-toggleable__label {background-color: #d4ebff;}#sk-container-id-1 div.sk-label input.sk-toggleable__control:checked~label.sk-toggleable__label {background-color: #d4ebff;}#sk-container-id-1 input.sk-hidden--visually {border: 0;clip: rect(1px 1px 1px 1px);clip: rect(1px, 1px, 1px, 1px);height: 1px;margin: -1px;overflow: hidden;padding: 0;position: absolute;width: 1px;}#sk-container-id-1 div.sk-estimator {font-family: monospace;background-color: #f0f8ff;border: 1px dotted black;border-radius: 0.25em;box-sizing: border-box;margin-bottom: 0.5em;}#sk-container-id-1 div.sk-estimator:hover {background-color: #d4ebff;}#sk-container-id-1 div.sk-parallel-item::after {content: \"\";width: 100%;border-bottom: 1px solid gray;flex-grow: 1;}#sk-container-id-1 div.sk-label:hover label.sk-toggleable__label {background-color: #d4ebff;}#sk-container-id-1 div.sk-serial::before {content: \"\";position: absolute;border-left: 1px solid gray;box-sizing: border-box;top: 0;bottom: 0;left: 50%;z-index: 0;}#sk-container-id-1 div.sk-serial {display: flex;flex-direction: column;align-items: center;background-color: white;padding-right: 0.2em;padding-left: 0.2em;position: relative;}#sk-container-id-1 div.sk-item {position: relative;z-index: 1;}#sk-container-id-1 div.sk-parallel {display: flex;align-items: stretch;justify-content: center;background-color: white;position: relative;}#sk-container-id-1 div.sk-item::before, #sk-container-id-1 div.sk-parallel-item::before {content: \"\";position: absolute;border-left: 1px solid gray;box-sizing: border-box;top: 0;bottom: 0;left: 50%;z-index: -1;}#sk-container-id-1 div.sk-parallel-item {display: flex;flex-direction: column;z-index: 1;position: relative;background-color: white;}#sk-container-id-1 div.sk-parallel-item:first-child::after {align-self: flex-end;width: 50%;}#sk-container-id-1 div.sk-parallel-item:last-child::after {align-self: flex-start;width: 50%;}#sk-container-id-1 div.sk-parallel-item:only-child::after {width: 0;}#sk-container-id-1 div.sk-dashed-wrapped {border: 1px dashed gray;margin: 0 0.4em 0.5em 0.4em;box-sizing: border-box;padding-bottom: 0.4em;background-color: white;}#sk-container-id-1 div.sk-label label {font-family: monospace;font-weight: bold;display: inline-block;line-height: 1.2em;}#sk-container-id-1 div.sk-label-container {text-align: center;}#sk-container-id-1 div.sk-container {/* jupyter's `normalize.less` sets `[hidden] { display: none; }` but bootstrap.min.css set `[hidden] { display: none !important; }` so we also need the `!important` here to be able to override the default hidden behavior on the sphinx rendered scikit-learn.org. See: https://github.com/scikit-learn/scikit-learn/issues/21755 */display: inline-block !important;position: relative;}#sk-container-id-1 div.sk-text-repr-fallback {display: none;}</style><div id=\"sk-container-id-1\" class=\"sk-top-container\"><div class=\"sk-text-repr-fallback\"><pre>DecisionTreeRegressor(max_leaf_nodes=4)</pre><b>In a Jupyter environment, please rerun this cell to show the HTML representation or trust the notebook. <br />On GitHub, the HTML representation is unable to render, please try loading this page with nbviewer.org.</b></div><div class=\"sk-container\" hidden><div class=\"sk-item\"><div class=\"sk-estimator sk-toggleable\"><input class=\"sk-toggleable__control sk-hidden--visually\" id=\"sk-estimator-id-1\" type=\"checkbox\" checked><label for=\"sk-estimator-id-1\" class=\"sk-toggleable__label sk-toggleable__label-arrow\">DecisionTreeRegressor</label><div class=\"sk-toggleable__content\"><pre>DecisionTreeRegressor(max_leaf_nodes=4)</pre></div></div></div></div></div>"
            ]
          },
          "metadata": {},
          "execution_count": 32
        }
      ],
      "source": [
        "from sklearn.tree import DecisionTreeRegressor, export_graphviz\n",
        "m = DecisionTreeRegressor(max_leaf_nodes=4)\n",
        "m.fit(xs,y)"
      ]
    },
    {
      "cell_type": "code",
      "execution_count": 33,
      "metadata": {
        "execution": {
          "iopub.execute_input": "2023-06-27T09:58:50.346781Z",
          "iopub.status.busy": "2023-06-27T09:58:50.346444Z",
          "iopub.status.idle": "2023-06-27T09:58:50.398679Z",
          "shell.execute_reply": "2023-06-27T09:58:50.397534Z",
          "shell.execute_reply.started": "2023-06-27T09:58:50.346752Z"
        },
        "trusted": true,
        "id": "-yJan1oS-bwu"
      },
      "outputs": [],
      "source": [
        "import graphviz\n",
        "\n",
        "def draw_tree(t, df, size=10, ratio=0.6, precision=2, **kwargs):\n",
        "    s=export_graphviz(t, out_file=None, feature_names=df.columns, filled=True, rounded=True,\n",
        "                      special_characters=True, rotate=False, precision=precision, **kwargs)\n",
        "    return graphviz.Source(re.sub('Tree {', f'Tree {{ size={size}; ratio={ratio}', s))\n"
      ]
    },
    {
      "cell_type": "code",
      "execution_count": 34,
      "metadata": {
        "execution": {
          "iopub.execute_input": "2023-06-27T09:58:50.400538Z",
          "iopub.status.busy": "2023-06-27T09:58:50.400174Z",
          "iopub.status.idle": "2023-06-27T09:58:50.550661Z",
          "shell.execute_reply": "2023-06-27T09:58:50.549749Z",
          "shell.execute_reply.started": "2023-06-27T09:58:50.400508Z"
        },
        "trusted": true,
        "colab": {
          "base_uri": "https://localhost:8080/",
          "height": 533
        },
        "id": "FbOlmUuI-bwu",
        "outputId": "f2de4212-f5ff-48f9-9a83-bb3a6c62590d"
      },
      "outputs": [
        {
          "output_type": "execute_result",
          "data": {
            "image/svg+xml": "<?xml version=\"1.0\" encoding=\"UTF-8\" standalone=\"no\"?>\n<!DOCTYPE svg PUBLIC \"-//W3C//DTD SVG 1.1//EN\"\n \"http://www.w3.org/Graphics/SVG/1.1/DTD/svg11.dtd\">\n<!-- Generated by graphviz version 2.43.0 (0)\n -->\n<!-- Title: Tree Pages: 1 -->\n<svg width=\"634pt\" height=\"384pt\"\n viewBox=\"0.00 0.00 634.00 384.10\" xmlns=\"http://www.w3.org/2000/svg\" xmlns:xlink=\"http://www.w3.org/1999/xlink\">\n<g id=\"graph0\" class=\"graph\" transform=\"scale(1 1) rotate(0) translate(4 380.1)\">\n<title>Tree</title>\n<polygon fill=\"white\" stroke=\"transparent\" points=\"-4,4 -4,-380.1 630,-380.1 630,4 -4,4\"/>\n<!-- 0 -->\n<g id=\"node1\" class=\"node\">\n<title>0</title>\n<path fill=\"#eda775\" stroke=\"black\" d=\"M537,-376C537,-376 410,-376 410,-376 404,-376 398,-370 398,-364 398,-364 398,-320 398,-320 398,-314 404,-308 410,-308 410,-308 537,-308 537,-308 543,-308 549,-314 549,-320 549,-320 549,-364 549,-364 549,-370 543,-376 537,-376\"/>\n<text text-anchor=\"start\" x=\"406\" y=\"-360.8\" font-family=\"Helvetica,sans-Serif\" font-size=\"14.00\">Coupler_System ≤ 0.5</text>\n<text text-anchor=\"start\" x=\"410\" y=\"-345.8\" font-family=\"Helvetica,sans-Serif\" font-size=\"14.00\">squared_error = 0.48</text>\n<text text-anchor=\"start\" x=\"417.5\" y=\"-330.8\" font-family=\"Helvetica,sans-Serif\" font-size=\"14.00\">samples = 404710</text>\n<text text-anchor=\"start\" x=\"436\" y=\"-315.8\" font-family=\"Helvetica,sans-Serif\" font-size=\"14.00\">value = 10.1</text>\n</g>\n<!-- 1 -->\n<g id=\"node2\" class=\"node\">\n<title>1</title>\n<path fill=\"#eb9d64\" stroke=\"black\" d=\"M372,-271C372,-271 253,-271 253,-271 247,-271 241,-265 241,-259 241,-259 241,-215 241,-215 241,-209 247,-203 253,-203 253,-203 372,-203 372,-203 378,-203 384,-209 384,-215 384,-215 384,-259 384,-259 384,-265 378,-271 372,-271\"/>\n<text text-anchor=\"start\" x=\"253\" y=\"-255.8\" font-family=\"Helvetica,sans-Serif\" font-size=\"14.00\">YearMade ≤ 1991.5</text>\n<text text-anchor=\"start\" x=\"249\" y=\"-240.8\" font-family=\"Helvetica,sans-Serif\" font-size=\"14.00\">squared_error = 0.42</text>\n<text text-anchor=\"start\" x=\"256.5\" y=\"-225.8\" font-family=\"Helvetica,sans-Serif\" font-size=\"14.00\">samples = 360847</text>\n<text text-anchor=\"start\" x=\"271.5\" y=\"-210.8\" font-family=\"Helvetica,sans-Serif\" font-size=\"14.00\">value = 10.21</text>\n</g>\n<!-- 0&#45;&gt;1 -->\n<g id=\"edge1\" class=\"edge\">\n<title>0&#45;&gt;1</title>\n<path fill=\"none\" stroke=\"black\" d=\"M421.67,-307.84C406.16,-297.92 389.01,-286.95 373,-276.7\"/>\n<polygon fill=\"black\" stroke=\"black\" points=\"374.54,-273.54 364.23,-271.09 370.77,-279.43 374.54,-273.54\"/>\n<text text-anchor=\"middle\" x=\"369.6\" y=\"-291.81\" font-family=\"Helvetica,sans-Serif\" font-size=\"14.00\">True</text>\n</g>\n<!-- 2 -->\n<g id=\"node7\" class=\"node\">\n<title>2</title>\n<path fill=\"#ffffff\" stroke=\"black\" d=\"M614,-53.5C614,-53.5 495,-53.5 495,-53.5 489,-53.5 483,-47.5 483,-41.5 483,-41.5 483,-12.5 483,-12.5 483,-6.5 489,-0.5 495,-0.5 495,-0.5 614,-0.5 614,-0.5 620,-0.5 626,-6.5 626,-12.5 626,-12.5 626,-41.5 626,-41.5 626,-47.5 620,-53.5 614,-53.5\"/>\n<text text-anchor=\"start\" x=\"491\" y=\"-38.3\" font-family=\"Helvetica,sans-Serif\" font-size=\"14.00\">squared_error = 0.12</text>\n<text text-anchor=\"start\" x=\"502\" y=\"-23.3\" font-family=\"Helvetica,sans-Serif\" font-size=\"14.00\">samples = 43863</text>\n<text text-anchor=\"start\" x=\"517\" y=\"-8.3\" font-family=\"Helvetica,sans-Serif\" font-size=\"14.00\">value = 9.21</text>\n</g>\n<!-- 0&#45;&gt;2 -->\n<g id=\"edge6\" class=\"edge\">\n<title>0&#45;&gt;2</title>\n<path fill=\"none\" stroke=\"black\" d=\"M482.09,-307.8C497.45,-248.46 529.48,-124.7 545.28,-63.64\"/>\n<polygon fill=\"black\" stroke=\"black\" points=\"548.73,-64.26 547.85,-53.7 541.96,-62.5 548.73,-64.26\"/>\n<text text-anchor=\"middle\" x=\"560.53\" y=\"-71.54\" font-family=\"Helvetica,sans-Serif\" font-size=\"14.00\">False</text>\n</g>\n<!-- 3 -->\n<g id=\"node3\" class=\"node\">\n<title>3</title>\n<path fill=\"#f0b48a\" stroke=\"black\" d=\"M131,-53.5C131,-53.5 12,-53.5 12,-53.5 6,-53.5 0,-47.5 0,-41.5 0,-41.5 0,-12.5 0,-12.5 0,-6.5 6,-0.5 12,-0.5 12,-0.5 131,-0.5 131,-0.5 137,-0.5 143,-6.5 143,-12.5 143,-12.5 143,-41.5 143,-41.5 143,-47.5 137,-53.5 131,-53.5\"/>\n<text text-anchor=\"start\" x=\"8\" y=\"-38.3\" font-family=\"Helvetica,sans-Serif\" font-size=\"14.00\">squared_error = 0.37</text>\n<text text-anchor=\"start\" x=\"15.5\" y=\"-23.3\" font-family=\"Helvetica,sans-Serif\" font-size=\"14.00\">samples = 155724</text>\n<text text-anchor=\"start\" x=\"34\" y=\"-8.3\" font-family=\"Helvetica,sans-Serif\" font-size=\"14.00\">value = 9.97</text>\n</g>\n<!-- 1&#45;&gt;3 -->\n<g id=\"edge2\" class=\"edge\">\n<title>1&#45;&gt;3</title>\n<path fill=\"none\" stroke=\"black\" d=\"M274.05,-202.81C228.66,-163.64 153.71,-98.96 108.83,-60.22\"/>\n<polygon fill=\"black\" stroke=\"black\" points=\"110.94,-57.41 101.08,-53.53 106.36,-62.71 110.94,-57.41\"/>\n</g>\n<!-- 4 -->\n<g id=\"node4\" class=\"node\">\n<title>4</title>\n<path fill=\"#e78a48\" stroke=\"black\" d=\"M372,-166C372,-166 253,-166 253,-166 247,-166 241,-160 241,-154 241,-154 241,-110 241,-110 241,-104 247,-98 253,-98 253,-98 372,-98 372,-98 378,-98 384,-104 384,-110 384,-110 384,-154 384,-154 384,-160 378,-166 372,-166\"/>\n<text text-anchor=\"start\" x=\"259\" y=\"-150.8\" font-family=\"Helvetica,sans-Serif\" font-size=\"14.00\">ProductSize ≤ 4.5</text>\n<text text-anchor=\"start\" x=\"249\" y=\"-135.8\" font-family=\"Helvetica,sans-Serif\" font-size=\"14.00\">squared_error = 0.37</text>\n<text text-anchor=\"start\" x=\"256.5\" y=\"-120.8\" font-family=\"Helvetica,sans-Serif\" font-size=\"14.00\">samples = 205123</text>\n<text text-anchor=\"start\" x=\"275\" y=\"-105.8\" font-family=\"Helvetica,sans-Serif\" font-size=\"14.00\">value = 10.4</text>\n</g>\n<!-- 1&#45;&gt;4 -->\n<g id=\"edge3\" class=\"edge\">\n<title>1&#45;&gt;4</title>\n<path fill=\"none\" stroke=\"black\" d=\"M312.5,-202.84C312.5,-194.39 312.5,-185.18 312.5,-176.3\"/>\n<polygon fill=\"black\" stroke=\"black\" points=\"316,-176.09 312.5,-166.09 309,-176.09 316,-176.09\"/>\n</g>\n<!-- 5 -->\n<g id=\"node5\" class=\"node\">\n<title>5</title>\n<path fill=\"#e58139\" stroke=\"black\" d=\"M292,-53.5C292,-53.5 173,-53.5 173,-53.5 167,-53.5 161,-47.5 161,-41.5 161,-41.5 161,-12.5 161,-12.5 161,-6.5 167,-0.5 173,-0.5 173,-0.5 292,-0.5 292,-0.5 298,-0.5 304,-6.5 304,-12.5 304,-12.5 304,-41.5 304,-41.5 304,-47.5 298,-53.5 292,-53.5\"/>\n<text text-anchor=\"start\" x=\"169\" y=\"-38.3\" font-family=\"Helvetica,sans-Serif\" font-size=\"14.00\">squared_error = 0.31</text>\n<text text-anchor=\"start\" x=\"176.5\" y=\"-23.3\" font-family=\"Helvetica,sans-Serif\" font-size=\"14.00\">samples = 182403</text>\n<text text-anchor=\"start\" x=\"195\" y=\"-8.3\" font-family=\"Helvetica,sans-Serif\" font-size=\"14.00\">value = 10.5</text>\n</g>\n<!-- 4&#45;&gt;5 -->\n<g id=\"edge4\" class=\"edge\">\n<title>4&#45;&gt;5</title>\n<path fill=\"none\" stroke=\"black\" d=\"M286.75,-97.84C277.78,-86.3 267.71,-73.33 258.71,-61.74\"/>\n<polygon fill=\"black\" stroke=\"black\" points=\"261.27,-59.33 252.37,-53.58 255.74,-63.63 261.27,-59.33\"/>\n</g>\n<!-- 6 -->\n<g id=\"node6\" class=\"node\">\n<title>6</title>\n<path fill=\"#f7d6bf\" stroke=\"black\" d=\"M453,-53.5C453,-53.5 334,-53.5 334,-53.5 328,-53.5 322,-47.5 322,-41.5 322,-41.5 322,-12.5 322,-12.5 322,-6.5 328,-0.5 334,-0.5 334,-0.5 453,-0.5 453,-0.5 459,-0.5 465,-6.5 465,-12.5 465,-12.5 465,-41.5 465,-41.5 465,-47.5 459,-53.5 453,-53.5\"/>\n<text text-anchor=\"start\" x=\"330\" y=\"-38.3\" font-family=\"Helvetica,sans-Serif\" font-size=\"14.00\">squared_error = 0.17</text>\n<text text-anchor=\"start\" x=\"341\" y=\"-23.3\" font-family=\"Helvetica,sans-Serif\" font-size=\"14.00\">samples = 22720</text>\n<text text-anchor=\"start\" x=\"356\" y=\"-8.3\" font-family=\"Helvetica,sans-Serif\" font-size=\"14.00\">value = 9.62</text>\n</g>\n<!-- 4&#45;&gt;6 -->\n<g id=\"edge5\" class=\"edge\">\n<title>4&#45;&gt;6</title>\n<path fill=\"none\" stroke=\"black\" d=\"M338.57,-97.84C347.66,-86.3 357.85,-73.33 366.97,-61.74\"/>\n<polygon fill=\"black\" stroke=\"black\" points=\"369.95,-63.6 373.38,-53.58 364.45,-59.28 369.95,-63.6\"/>\n</g>\n</g>\n</svg>\n",
            "text/plain": [
              "<graphviz.sources.Source at 0x7fc01d6355a0>"
            ]
          },
          "metadata": {},
          "execution_count": 34
        }
      ],
      "source": [
        "draw_tree(m, xs, size=10, leaves_parallel=True, precision=2)\n",
        "# draw_tree(m, trn_xs, size=10)"
      ]
    },
    {
      "cell_type": "markdown",
      "metadata": {
        "id": "UNSZjgAr-bwu"
      },
      "source": [
        "### Lets try Disicion Tree without any limiting parameter"
      ]
    },
    {
      "cell_type": "code",
      "execution_count": 35,
      "metadata": {
        "execution": {
          "iopub.execute_input": "2023-06-27T09:58:50.561449Z",
          "iopub.status.busy": "2023-06-27T09:58:50.561070Z",
          "iopub.status.idle": "2023-06-27T09:59:01.751898Z",
          "shell.execute_reply": "2023-06-27T09:59:01.749698Z",
          "shell.execute_reply.started": "2023-06-27T09:58:50.561419Z"
        },
        "trusted": true,
        "id": "15QHheYX-bwv"
      },
      "outputs": [],
      "source": [
        "m = DecisionTreeRegressor()\n",
        "m.fit(xs, y);"
      ]
    },
    {
      "cell_type": "code",
      "execution_count": 36,
      "metadata": {
        "execution": {
          "iopub.execute_input": "2023-06-27T09:59:01.754288Z",
          "iopub.status.busy": "2023-06-27T09:59:01.753602Z",
          "iopub.status.idle": "2023-06-27T09:59:01.760726Z",
          "shell.execute_reply": "2023-06-27T09:59:01.759090Z",
          "shell.execute_reply.started": "2023-06-27T09:59:01.754245Z"
        },
        "trusted": true,
        "id": "lLFfAFhV-bwv"
      },
      "outputs": [],
      "source": [
        "import math\n",
        "def r_mse(pred,y): return round(math.sqrt(((pred-y)**2).mean()), 6)\n",
        "def m_rmse(m, xs, y): return r_mse(m.predict(xs), y)"
      ]
    },
    {
      "cell_type": "code",
      "execution_count": 37,
      "metadata": {
        "execution": {
          "iopub.execute_input": "2023-06-27T09:59:01.763341Z",
          "iopub.status.busy": "2023-06-27T09:59:01.762624Z",
          "iopub.status.idle": "2023-06-27T09:59:02.137442Z",
          "shell.execute_reply": "2023-06-27T09:59:02.135283Z",
          "shell.execute_reply.started": "2023-06-27T09:59:01.763289Z"
        },
        "trusted": true,
        "colab": {
          "base_uri": "https://localhost:8080/"
        },
        "id": "C6BHKv7B-bwv",
        "outputId": "5347a9e0-eb15-4d4a-e84a-d9acf6609593"
      },
      "outputs": [
        {
          "output_type": "execute_result",
          "data": {
            "text/plain": [
              "0.0"
            ]
          },
          "metadata": {},
          "execution_count": 37
        }
      ],
      "source": [
        "m_rmse(m, xs, y)"
      ]
    },
    {
      "cell_type": "code",
      "execution_count": 38,
      "metadata": {
        "execution": {
          "iopub.execute_input": "2023-06-27T09:59:02.140657Z",
          "iopub.status.busy": "2023-06-27T09:59:02.139936Z",
          "iopub.status.idle": "2023-06-27T09:59:02.147813Z",
          "shell.execute_reply": "2023-06-27T09:59:02.146774Z",
          "shell.execute_reply.started": "2023-06-27T09:59:02.140618Z"
        },
        "trusted": true,
        "colab": {
          "base_uri": "https://localhost:8080/"
        },
        "id": "OH6vymL6-bwv",
        "outputId": "551fb283-956e-423b-a0aa-7c6d5299b109"
      },
      "outputs": [
        {
          "output_type": "execute_result",
          "data": {
            "text/plain": [
              "((7988, 66), (7988,))"
            ]
          },
          "metadata": {},
          "execution_count": 38
        }
      ],
      "source": [
        "valid_xs.shape, valid_y.shape"
      ]
    },
    {
      "cell_type": "code",
      "execution_count": 39,
      "metadata": {
        "execution": {
          "iopub.execute_input": "2023-06-27T09:59:02.150129Z",
          "iopub.status.busy": "2023-06-27T09:59:02.149454Z",
          "iopub.status.idle": "2023-06-27T09:59:02.175392Z",
          "shell.execute_reply": "2023-06-27T09:59:02.174279Z",
          "shell.execute_reply.started": "2023-06-27T09:59:02.150089Z"
        },
        "trusted": true,
        "colab": {
          "base_uri": "https://localhost:8080/"
        },
        "id": "avZLasvH-bwv",
        "outputId": "4c08ec84-a641-4d89-8b7a-b05618a7b047"
      },
      "outputs": [
        {
          "output_type": "execute_result",
          "data": {
            "text/plain": [
              "0.337458"
            ]
          },
          "metadata": {},
          "execution_count": 39
        }
      ],
      "source": [
        "m_rmse(m, valid_xs, valid_y)"
      ]
    },
    {
      "cell_type": "markdown",
      "metadata": {
        "id": "o9G2Pa3w-bwv"
      },
      "source": [
        "## Overfitting as the traning error is low and validation error is high, and the reason being is that at the every leaves, there are single data elemnet"
      ]
    },
    {
      "cell_type": "code",
      "execution_count": 40,
      "metadata": {
        "execution": {
          "iopub.execute_input": "2023-06-27T09:59:02.177737Z",
          "iopub.status.busy": "2023-06-27T09:59:02.177088Z",
          "iopub.status.idle": "2023-06-27T09:59:02.194147Z",
          "shell.execute_reply": "2023-06-27T09:59:02.192827Z",
          "shell.execute_reply.started": "2023-06-27T09:59:02.177698Z"
        },
        "trusted": true,
        "colab": {
          "base_uri": "https://localhost:8080/"
        },
        "id": "v0k97f2M-bww",
        "outputId": "fd70b27a-6c5e-4b2f-9f2e-6ee732f248e4"
      },
      "outputs": [
        {
          "output_type": "execute_result",
          "data": {
            "text/plain": [
              "(324910, 404710)"
            ]
          },
          "metadata": {},
          "execution_count": 40
        }
      ],
      "source": [
        "m.get_n_leaves(), len(xs)"
      ]
    },
    {
      "cell_type": "code",
      "execution_count": 41,
      "metadata": {
        "execution": {
          "iopub.execute_input": "2023-06-27T09:59:02.196375Z",
          "iopub.status.busy": "2023-06-27T09:59:02.195718Z",
          "iopub.status.idle": "2023-06-27T09:59:10.280432Z",
          "shell.execute_reply": "2023-06-27T09:59:10.279220Z",
          "shell.execute_reply.started": "2023-06-27T09:59:02.196336Z"
        },
        "trusted": true,
        "colab": {
          "base_uri": "https://localhost:8080/"
        },
        "id": "gi-Q2e5X-bww",
        "outputId": "e2d8e288-85be-49e1-a215-08ea7c2fde47"
      },
      "outputs": [
        {
          "output_type": "execute_result",
          "data": {
            "text/plain": [
              "(0.239346, 0.313418)"
            ]
          },
          "metadata": {},
          "execution_count": 41
        }
      ],
      "source": [
        "m = DecisionTreeRegressor(min_samples_leaf=25)\n",
        "m.fit(to.train.xs, to.train.y)\n",
        "m_rmse(m, xs, y), m_rmse(m, valid_xs, valid_y)"
      ]
    },
    {
      "cell_type": "markdown",
      "metadata": {
        "id": "R-9B2UOb-bww"
      },
      "source": [
        "# Random Forest"
      ]
    },
    {
      "cell_type": "code",
      "execution_count": 42,
      "metadata": {
        "execution": {
          "iopub.execute_input": "2023-06-27T09:59:10.282367Z",
          "iopub.status.busy": "2023-06-27T09:59:10.282025Z",
          "iopub.status.idle": "2023-06-27T09:59:10.416473Z",
          "shell.execute_reply": "2023-06-27T09:59:10.415629Z",
          "shell.execute_reply.started": "2023-06-27T09:59:10.282338Z"
        },
        "trusted": true,
        "id": "vE-Uagtm-bww"
      },
      "outputs": [],
      "source": [
        "from sklearn.ensemble import RandomForestRegressor\n",
        "def rf(xs, y, n_estimators=40, max_samples=200_000,\n",
        "       max_features=0.5, min_samples_leaf=5, **kwargs):\n",
        "    return RandomForestRegressor(n_jobs=-1, n_estimators=n_estimators,\n",
        "        max_samples=max_samples, max_features=max_features,\n",
        "        min_samples_leaf=min_samples_leaf, oob_score=True).fit(xs, y)"
      ]
    },
    {
      "cell_type": "code",
      "execution_count": 43,
      "metadata": {
        "execution": {
          "iopub.execute_input": "2023-06-27T09:59:10.419123Z",
          "iopub.status.busy": "2023-06-27T09:59:10.418101Z",
          "iopub.status.idle": "2023-06-27T09:59:51.106353Z",
          "shell.execute_reply": "2023-06-27T09:59:51.105386Z",
          "shell.execute_reply.started": "2023-06-27T09:59:10.419080Z"
        },
        "trusted": true,
        "id": "GzV0-Z06-bw4"
      },
      "outputs": [],
      "source": [
        "m = rf(xs,y)"
      ]
    },
    {
      "cell_type": "code",
      "execution_count": 44,
      "metadata": {
        "execution": {
          "iopub.execute_input": "2023-06-27T09:59:51.108147Z",
          "iopub.status.busy": "2023-06-27T09:59:51.107643Z",
          "iopub.status.idle": "2023-06-27T09:59:52.678931Z",
          "shell.execute_reply": "2023-06-27T09:59:52.677878Z",
          "shell.execute_reply.started": "2023-06-27T09:59:51.108114Z"
        },
        "trusted": true,
        "colab": {
          "base_uri": "https://localhost:8080/"
        },
        "id": "gV-6PRC8-bw4",
        "outputId": "ffb34a68-447d-4f1b-9a99-eb02f0271f8a"
      },
      "outputs": [
        {
          "output_type": "execute_result",
          "data": {
            "text/plain": [
              "(0.171285, 0.233735)"
            ]
          },
          "metadata": {},
          "execution_count": 44
        }
      ],
      "source": [
        "m_rmse(m, xs, y), m_rmse(m, valid_xs, valid_y)"
      ]
    },
    {
      "cell_type": "code",
      "execution_count": 45,
      "metadata": {
        "execution": {
          "iopub.execute_input": "2023-06-27T09:59:52.681569Z",
          "iopub.status.busy": "2023-06-27T09:59:52.680786Z",
          "iopub.status.idle": "2023-06-27T09:59:52.901339Z",
          "shell.execute_reply": "2023-06-27T09:59:52.899990Z",
          "shell.execute_reply.started": "2023-06-27T09:59:52.681528Z"
        },
        "trusted": true,
        "colab": {
          "base_uri": "https://localhost:8080/"
        },
        "id": "8ai5NdAL-bw4",
        "outputId": "7640e8ea-ad4c-4d22-8221-b1538970c630"
      },
      "outputs": [
        {
          "output_type": "stream",
          "name": "stderr",
          "text": [
            "/usr/local/lib/python3.10/dist-packages/sklearn/base.py:432: UserWarning: X has feature names, but DecisionTreeRegressor was fitted without feature names\n",
            "/usr/local/lib/python3.10/dist-packages/sklearn/base.py:432: UserWarning: X has feature names, but DecisionTreeRegressor was fitted without feature names\n",
            "/usr/local/lib/python3.10/dist-packages/sklearn/base.py:432: UserWarning: X has feature names, but DecisionTreeRegressor was fitted without feature names\n",
            "/usr/local/lib/python3.10/dist-packages/sklearn/base.py:432: UserWarning: X has feature names, but DecisionTreeRegressor was fitted without feature names\n",
            "/usr/local/lib/python3.10/dist-packages/sklearn/base.py:432: UserWarning: X has feature names, but DecisionTreeRegressor was fitted without feature names\n",
            "/usr/local/lib/python3.10/dist-packages/sklearn/base.py:432: UserWarning: X has feature names, but DecisionTreeRegressor was fitted without feature names\n",
            "/usr/local/lib/python3.10/dist-packages/sklearn/base.py:432: UserWarning: X has feature names, but DecisionTreeRegressor was fitted without feature names\n",
            "/usr/local/lib/python3.10/dist-packages/sklearn/base.py:432: UserWarning: X has feature names, but DecisionTreeRegressor was fitted without feature names\n",
            "/usr/local/lib/python3.10/dist-packages/sklearn/base.py:432: UserWarning: X has feature names, but DecisionTreeRegressor was fitted without feature names\n",
            "/usr/local/lib/python3.10/dist-packages/sklearn/base.py:432: UserWarning: X has feature names, but DecisionTreeRegressor was fitted without feature names\n",
            "/usr/local/lib/python3.10/dist-packages/sklearn/base.py:432: UserWarning: X has feature names, but DecisionTreeRegressor was fitted without feature names\n",
            "/usr/local/lib/python3.10/dist-packages/sklearn/base.py:432: UserWarning: X has feature names, but DecisionTreeRegressor was fitted without feature names\n",
            "/usr/local/lib/python3.10/dist-packages/sklearn/base.py:432: UserWarning: X has feature names, but DecisionTreeRegressor was fitted without feature names\n",
            "/usr/local/lib/python3.10/dist-packages/sklearn/base.py:432: UserWarning: X has feature names, but DecisionTreeRegressor was fitted without feature names\n",
            "/usr/local/lib/python3.10/dist-packages/sklearn/base.py:432: UserWarning: X has feature names, but DecisionTreeRegressor was fitted without feature names\n",
            "/usr/local/lib/python3.10/dist-packages/sklearn/base.py:432: UserWarning: X has feature names, but DecisionTreeRegressor was fitted without feature names\n",
            "/usr/local/lib/python3.10/dist-packages/sklearn/base.py:432: UserWarning: X has feature names, but DecisionTreeRegressor was fitted without feature names\n",
            "/usr/local/lib/python3.10/dist-packages/sklearn/base.py:432: UserWarning: X has feature names, but DecisionTreeRegressor was fitted without feature names\n",
            "/usr/local/lib/python3.10/dist-packages/sklearn/base.py:432: UserWarning: X has feature names, but DecisionTreeRegressor was fitted without feature names\n",
            "/usr/local/lib/python3.10/dist-packages/sklearn/base.py:432: UserWarning: X has feature names, but DecisionTreeRegressor was fitted without feature names\n",
            "/usr/local/lib/python3.10/dist-packages/sklearn/base.py:432: UserWarning: X has feature names, but DecisionTreeRegressor was fitted without feature names\n",
            "/usr/local/lib/python3.10/dist-packages/sklearn/base.py:432: UserWarning: X has feature names, but DecisionTreeRegressor was fitted without feature names\n",
            "/usr/local/lib/python3.10/dist-packages/sklearn/base.py:432: UserWarning: X has feature names, but DecisionTreeRegressor was fitted without feature names\n",
            "/usr/local/lib/python3.10/dist-packages/sklearn/base.py:432: UserWarning: X has feature names, but DecisionTreeRegressor was fitted without feature names\n",
            "/usr/local/lib/python3.10/dist-packages/sklearn/base.py:432: UserWarning: X has feature names, but DecisionTreeRegressor was fitted without feature names\n",
            "/usr/local/lib/python3.10/dist-packages/sklearn/base.py:432: UserWarning: X has feature names, but DecisionTreeRegressor was fitted without feature names\n",
            "/usr/local/lib/python3.10/dist-packages/sklearn/base.py:432: UserWarning: X has feature names, but DecisionTreeRegressor was fitted without feature names\n",
            "/usr/local/lib/python3.10/dist-packages/sklearn/base.py:432: UserWarning: X has feature names, but DecisionTreeRegressor was fitted without feature names\n",
            "/usr/local/lib/python3.10/dist-packages/sklearn/base.py:432: UserWarning: X has feature names, but DecisionTreeRegressor was fitted without feature names\n",
            "/usr/local/lib/python3.10/dist-packages/sklearn/base.py:432: UserWarning: X has feature names, but DecisionTreeRegressor was fitted without feature names\n",
            "/usr/local/lib/python3.10/dist-packages/sklearn/base.py:432: UserWarning: X has feature names, but DecisionTreeRegressor was fitted without feature names\n",
            "/usr/local/lib/python3.10/dist-packages/sklearn/base.py:432: UserWarning: X has feature names, but DecisionTreeRegressor was fitted without feature names\n",
            "/usr/local/lib/python3.10/dist-packages/sklearn/base.py:432: UserWarning: X has feature names, but DecisionTreeRegressor was fitted without feature names\n",
            "/usr/local/lib/python3.10/dist-packages/sklearn/base.py:432: UserWarning: X has feature names, but DecisionTreeRegressor was fitted without feature names\n",
            "/usr/local/lib/python3.10/dist-packages/sklearn/base.py:432: UserWarning: X has feature names, but DecisionTreeRegressor was fitted without feature names\n",
            "/usr/local/lib/python3.10/dist-packages/sklearn/base.py:432: UserWarning: X has feature names, but DecisionTreeRegressor was fitted without feature names\n",
            "/usr/local/lib/python3.10/dist-packages/sklearn/base.py:432: UserWarning: X has feature names, but DecisionTreeRegressor was fitted without feature names\n",
            "/usr/local/lib/python3.10/dist-packages/sklearn/base.py:432: UserWarning: X has feature names, but DecisionTreeRegressor was fitted without feature names\n",
            "/usr/local/lib/python3.10/dist-packages/sklearn/base.py:432: UserWarning: X has feature names, but DecisionTreeRegressor was fitted without feature names\n",
            "/usr/local/lib/python3.10/dist-packages/sklearn/base.py:432: UserWarning: X has feature names, but DecisionTreeRegressor was fitted without feature names\n"
          ]
        }
      ],
      "source": [
        "preds = np.stack([t.predict(valid_xs) for t in m.estimators_])"
      ]
    },
    {
      "cell_type": "code",
      "execution_count": 46,
      "metadata": {
        "execution": {
          "iopub.execute_input": "2023-06-27T09:59:52.903946Z",
          "iopub.status.busy": "2023-06-27T09:59:52.903106Z",
          "iopub.status.idle": "2023-06-27T09:59:52.913269Z",
          "shell.execute_reply": "2023-06-27T09:59:52.912125Z",
          "shell.execute_reply.started": "2023-06-27T09:59:52.903905Z"
        },
        "trusted": true,
        "colab": {
          "base_uri": "https://localhost:8080/"
        },
        "id": "1GpN8UY4-bw4",
        "outputId": "185efb28-1447-4308-8879-1e8ad5f37814"
      },
      "outputs": [
        {
          "output_type": "execute_result",
          "data": {
            "text/plain": [
              "0.233735"
            ]
          },
          "metadata": {},
          "execution_count": 46
        }
      ],
      "source": [
        "r_mse(preds.mean(0), valid_y)"
      ]
    },
    {
      "cell_type": "code",
      "execution_count": 47,
      "metadata": {
        "execution": {
          "iopub.execute_input": "2023-06-27T09:59:52.915244Z",
          "iopub.status.busy": "2023-06-27T09:59:52.914608Z",
          "iopub.status.idle": "2023-06-27T09:59:53.280332Z",
          "shell.execute_reply": "2023-06-27T09:59:53.278985Z",
          "shell.execute_reply.started": "2023-06-27T09:59:52.915204Z"
        },
        "trusted": true,
        "colab": {
          "base_uri": "https://localhost:8080/",
          "height": 448
        },
        "id": "BolLc6MY-bw4",
        "outputId": "b1681a33-c7ab-49bf-b814-bae8cf89b8bb"
      },
      "outputs": [
        {
          "output_type": "execute_result",
          "data": {
            "text/plain": [
              "[<matplotlib.lines.Line2D at 0x7fc02cd55d80>]"
            ]
          },
          "metadata": {},
          "execution_count": 47
        },
        {
          "output_type": "display_data",
          "data": {
            "text/plain": [
              "<Figure size 640x480 with 1 Axes>"
            ],
            "image/png": "[encoded data removed]"
          },
          "metadata": {}
        }
      ],
      "source": [
        "import matplotlib.pyplot as plt\n",
        "\n",
        "# As we can see, more and more trees we add, error gets decreased gradually until at some point fo saturation\n",
        "plt.plot([r_mse(preds[:i+1].mean(0), valid_y) for i in range(40)])"
      ]
    },
    {
      "cell_type": "markdown",
      "metadata": {
        "id": "MpeJniDR-bw4"
      },
      "source": [
        "## Out of Bag Error\n"
      ]
    },
    {
      "cell_type": "code",
      "execution_count": 48,
      "metadata": {
        "execution": {
          "iopub.execute_input": "2023-06-27T09:59:53.282312Z",
          "iopub.status.busy": "2023-06-27T09:59:53.281966Z",
          "iopub.status.idle": "2023-06-27T09:59:53.292268Z",
          "shell.execute_reply": "2023-06-27T09:59:53.291192Z",
          "shell.execute_reply.started": "2023-06-27T09:59:53.282282Z"
        },
        "trusted": true,
        "colab": {
          "base_uri": "https://localhost:8080/"
        },
        "id": "VQuEICPc-bw5",
        "outputId": "8378e160-f2e6-4b9c-d117-655d53a5436d"
      },
      "outputs": [
        {
          "output_type": "execute_result",
          "data": {
            "text/plain": [
              "0.211239"
            ]
          },
          "metadata": {},
          "execution_count": 48
        }
      ],
      "source": [
        "r_mse(m.oob_prediction_, y)"
      ]
    },
    {
      "cell_type": "code",
      "execution_count": 49,
      "metadata": {
        "execution": {
          "iopub.execute_input": "2023-06-27T09:59:53.294337Z",
          "iopub.status.busy": "2023-06-27T09:59:53.293869Z",
          "iopub.status.idle": "2023-06-27T09:59:53.301517Z",
          "shell.execute_reply": "2023-06-27T09:59:53.300290Z",
          "shell.execute_reply.started": "2023-06-27T09:59:53.294299Z"
        },
        "trusted": true,
        "id": "XPpmm0gd-bw5"
      },
      "outputs": [],
      "source": [
        "preds_std = preds.std(0)\n"
      ]
    },
    {
      "cell_type": "code",
      "execution_count": 50,
      "metadata": {
        "execution": {
          "iopub.execute_input": "2023-06-27T09:59:53.303604Z",
          "iopub.status.busy": "2023-06-27T09:59:53.303169Z",
          "iopub.status.idle": "2023-06-27T09:59:53.316100Z",
          "shell.execute_reply": "2023-06-27T09:59:53.314955Z",
          "shell.execute_reply.started": "2023-06-27T09:59:53.303568Z"
        },
        "trusted": true,
        "colab": {
          "base_uri": "https://localhost:8080/"
        },
        "id": "1s8Xt85X-bw5",
        "outputId": "0621b822-b1a7-496a-f27d-f3e5086b7960"
      },
      "outputs": [
        {
          "output_type": "execute_result",
          "data": {
            "text/plain": [
              "array([0.29135796, 0.1391685 , 0.11472931, 0.25938995, 0.13270695])"
            ]
          },
          "metadata": {},
          "execution_count": 50
        }
      ],
      "source": [
        "preds_std[:5]"
      ]
    },
    {
      "cell_type": "markdown",
      "metadata": {
        "id": "tPhvaGhp-bw5"
      },
      "source": [
        "## Feature Importance"
      ]
    },
    {
      "cell_type": "code",
      "execution_count": 51,
      "metadata": {
        "execution": {
          "iopub.execute_input": "2023-06-27T09:59:53.319686Z",
          "iopub.status.busy": "2023-06-27T09:59:53.319331Z",
          "iopub.status.idle": "2023-06-27T09:59:53.326622Z",
          "shell.execute_reply": "2023-06-27T09:59:53.325541Z",
          "shell.execute_reply.started": "2023-06-27T09:59:53.319650Z"
        },
        "trusted": true,
        "id": "Bm_g9YHb-bw5"
      },
      "outputs": [],
      "source": [
        "def rf_feature_importance(m, df):\n",
        "    return pd.DataFrame({'cols': df.columns, 'imp': m.feature_importances_}).sort_values('imp', ascending= False)"
      ]
    },
    {
      "cell_type": "code",
      "execution_count": 52,
      "metadata": {
        "execution": {
          "iopub.execute_input": "2023-06-27T09:59:53.328578Z",
          "iopub.status.busy": "2023-06-27T09:59:53.327836Z",
          "iopub.status.idle": "2023-06-27T09:59:53.373058Z",
          "shell.execute_reply": "2023-06-27T09:59:53.371810Z",
          "shell.execute_reply.started": "2023-06-27T09:59:53.328540Z"
        },
        "trusted": true,
        "colab": {
          "base_uri": "https://localhost:8080/",
          "height": 363
        },
        "id": "Krwxb2ZC-bw5",
        "outputId": "07b85f20-37b3-437a-af18-420366408e6a"
      },
      "outputs": [
        {
          "output_type": "execute_result",
          "data": {
            "text/plain": [
              "                  cols       imp\n",
              "57            YearMade  0.174609\n",
              "6          ProductSize  0.100652\n",
              "30      Coupler_System  0.100477\n",
              "7   fiProductClassDesc  0.080714\n",
              "31      Grouser_Tracks  0.060887\n",
              "54             ModelID  0.059776\n",
              "65         saleElapsed  0.051411\n",
              "3      fiSecondaryDesc  0.047196\n",
              "1          fiModelDesc  0.035952\n",
              "32     Hydraulics_Flow  0.032683"
            ],
            "text/html": [
              "\n",
              "  <div id=\"df-acee7074-103d-4b1d-9964-49dcbe09b4fa\">\n",
              "    <div class=\"colab-df-container\">\n",
              "      <div>\n",
              "<style scoped>\n",
              "    .dataframe tbody tr th:only-of-type {\n",
              "        vertical-align: middle;\n",
              "    }\n",
              "\n",
              "    .dataframe tbody tr th {\n",
              "        vertical-align: top;\n",
              "    }\n",
              "\n",
              "    .dataframe thead th {\n",
              "        text-align: right;\n",
              "    }\n",
              "</style>\n",
              "<table border=\"1\" class=\"dataframe\">\n",
              "  <thead>\n",
              "    <tr style=\"text-align: right;\">\n",
              "      <th></th>\n",
              "      <th>cols</th>\n",
              "      <th>imp</th>\n",
              "    </tr>\n",
              "  </thead>\n",
              "  <tbody>\n",
              "    <tr>\n",
              "      <th>57</th>\n",
              "      <td>YearMade</td>\n",
              "      <td>0.174609</td>\n",
              "    </tr>\n",
              "    <tr>\n",
              "      <th>6</th>\n",
              "      <td>ProductSize</td>\n",
              "      <td>0.100652</td>\n",
              "    </tr>\n",
              "    <tr>\n",
              "      <th>30</th>\n",
              "      <td>Coupler_System</td>\n",
              "      <td>0.100477</td>\n",
              "    </tr>\n",
              "    <tr>\n",
              "      <th>7</th>\n",
              "      <td>fiProductClassDesc</td>\n",
              "      <td>0.080714</td>\n",
              "    </tr>\n",
              "    <tr>\n",
              "      <th>31</th>\n",
              "      <td>Grouser_Tracks</td>\n",
              "      <td>0.060887</td>\n",
              "    </tr>\n",
              "    <tr>\n",
              "      <th>54</th>\n",
              "      <td>ModelID</td>\n",
              "      <td>0.059776</td>\n",
              "    </tr>\n",
              "    <tr>\n",
              "      <th>65</th>\n",
              "      <td>saleElapsed</td>\n",
              "      <td>0.051411</td>\n",
              "    </tr>\n",
              "    <tr>\n",
              "      <th>3</th>\n",
              "      <td>fiSecondaryDesc</td>\n",
              "      <td>0.047196</td>\n",
              "    </tr>\n",
              "    <tr>\n",
              "      <th>1</th>\n",
              "      <td>fiModelDesc</td>\n",
              "      <td>0.035952</td>\n",
              "    </tr>\n",
              "    <tr>\n",
              "      <th>32</th>\n",
              "      <td>Hydraulics_Flow</td>\n",
              "      <td>0.032683</td>\n",
              "    </tr>\n",
              "  </tbody>\n",
              "</table>\n",
              "</div>\n",
              "      <button class=\"colab-df-convert\" onclick=\"convertToInteractive('df-acee7074-103d-4b1d-9964-49dcbe09b4fa')\"\n",
              "              title=\"Convert this dataframe to an interactive table.\"\n",
              "              style=\"display:none;\">\n",
              "        \n",
              "  <svg xmlns=\"http://www.w3.org/2000/svg\" height=\"24px\"viewBox=\"0 0 24 24\"\n",
              "       width=\"24px\">\n",
              "    <path d=\"M0 0h24v24H0V0z\" fill=\"none\"/>\n",
              "    <path d=\"M18.56 5.44l.94 2.06.94-2.06 2.06-.94-2.06-.94-.94-2.06-.94 2.06-2.06.94zm-11 1L8.5 8.5l.94-2.06 2.06-.94-2.06-.94L8.5 2.5l-.94 2.06-2.06.94zm10 10l.94 2.06.94-2.06 2.06-.94-2.06-.94-.94-2.06-.94 2.06-2.06.94z\"/><path d=\"M17.41 7.96l-1.37-1.37c-.4-.4-.92-.59-1.43-.59-.52 0-1.04.2-1.43.59L10.3 9.45l-7.72 7.72c-.78.78-.78 2.05 0 2.83L4 21.41c.39.39.9.59 1.41.59.51 0 1.02-.2 1.41-.59l7.78-7.78 2.81-2.81c.8-.78.8-2.07 0-2.86zM5.41 20L4 18.59l7.72-7.72 1.47 1.35L5.41 20z\"/>\n",
              "  </svg>\n",
              "      </button>\n",
              "      \n",
              "  <style>\n",
              "    .colab-df-container {\n",
              "      display:flex;\n",
              "      flex-wrap:wrap;\n",
              "      gap: 12px;\n",
              "    }\n",
              "\n",
              "    .colab-df-convert {\n",
              "      background-color: #E8F0FE;\n",
              "      border: none;\n",
              "      border-radius: 50%;\n",
              "      cursor: pointer;\n",
              "      display: none;\n",
              "      fill: #1967D2;\n",
              "      height: 32px;\n",
              "      padding: 0 0 0 0;\n",
              "      width: 32px;\n",
              "    }\n",
              "\n",
              "    .colab-df-convert:hover {\n",
              "      background-color: #E2EBFA;\n",
              "      box-shadow: 0px 1px 2px rgba(60, 64, 67, 0.3), 0px 1px 3px 1px rgba(60, 64, 67, 0.15);\n",
              "      fill: #174EA6;\n",
              "    }\n",
              "\n",
              "    [theme=dark] .colab-df-convert {\n",
              "      background-color: #3B4455;\n",
              "      fill: #D2E3FC;\n",
              "    }\n",
              "\n",
              "    [theme=dark] .colab-df-convert:hover {\n",
              "      background-color: #434B5C;\n",
              "      box-shadow: 0px 1px 3px 1px rgba(0, 0, 0, 0.15);\n",
              "      filter: drop-shadow(0px 1px 2px rgba(0, 0, 0, 0.3));\n",
              "      fill: #FFFFFF;\n",
              "    }\n",
              "  </style>\n",
              "\n",
              "      <script>\n",
              "        const buttonEl =\n",
              "          document.querySelector('#df-acee7074-103d-4b1d-9964-49dcbe09b4fa button.colab-df-convert');\n",
              "        buttonEl.style.display =\n",
              "          google.colab.kernel.accessAllowed ? 'block' : 'none';\n",
              "\n",
              "        async function convertToInteractive(key) {\n",
              "          const element = document.querySelector('#df-acee7074-103d-4b1d-9964-49dcbe09b4fa');\n",
              "          const dataTable =\n",
              "            await google.colab.kernel.invokeFunction('convertToInteractive',\n",
              "                                                     [key], {});\n",
              "          if (!dataTable) return;\n",
              "\n",
              "          const docLinkHtml = 'Like what you see? Visit the ' +\n",
              "            '<a target=\"_blank\" href=https://colab.research.google.com/notebooks/data_table.ipynb>data table notebook</a>'\n",
              "            + ' to learn more about interactive tables.';\n",
              "          element.innerHTML = '';\n",
              "          dataTable['output_type'] = 'display_data';\n",
              "          await google.colab.output.renderOutput(dataTable, element);\n",
              "          const docLink = document.createElement('div');\n",
              "          docLink.innerHTML = docLinkHtml;\n",
              "          element.appendChild(docLink);\n",
              "        }\n",
              "      </script>\n",
              "    </div>\n",
              "  </div>\n",
              "  "
            ]
          },
          "metadata": {},
          "execution_count": 52
        }
      ],
      "source": [
        "fi = rf_feature_importance(m, xs)\n",
        "fi[:10]"
      ]
    },
    {
      "cell_type": "code",
      "execution_count": 53,
      "metadata": {
        "execution": {
          "iopub.execute_input": "2023-06-27T09:59:53.375216Z",
          "iopub.status.busy": "2023-06-27T09:59:53.374791Z",
          "iopub.status.idle": "2023-06-27T09:59:53.997144Z",
          "shell.execute_reply": "2023-06-27T09:59:53.995962Z",
          "shell.execute_reply.started": "2023-06-27T09:59:53.375177Z"
        },
        "trusted": true,
        "colab": {
          "base_uri": "https://localhost:8080/",
          "height": 617
        },
        "id": "Ec5vpo2a-bw6",
        "outputId": "44cb1025-eea3-40f2-c981-70f0c28c8d4d"
      },
      "outputs": [
        {
          "output_type": "execute_result",
          "data": {
            "text/plain": [
              "<Axes: ylabel='cols'>"
            ]
          },
          "metadata": {},
          "execution_count": 53
        },
        {
          "output_type": "display_data",
          "data": {
            "text/plain": [
              "<Figure size 1000x700 with 1 Axes>"
            ],
            "image/png": "[encoded data removed]"
          },
          "metadata": {}
        }
      ],
      "source": [
        "def plot_fi(fi):\n",
        "    return fi.plot('cols', 'imp', 'barh', figsize=(10,7), legend=False)\n",
        "plot_fi(fi[:30])"
      ]
    },
    {
      "cell_type": "code",
      "execution_count": 54,
      "metadata": {
        "execution": {
          "iopub.execute_input": "2023-06-27T09:59:53.999063Z",
          "iopub.status.busy": "2023-06-27T09:59:53.998369Z",
          "iopub.status.idle": "2023-06-27T09:59:54.011322Z",
          "shell.execute_reply": "2023-06-27T09:59:54.009820Z",
          "shell.execute_reply.started": "2023-06-27T09:59:53.999030Z"
        },
        "trusted": true,
        "colab": {
          "base_uri": "https://localhost:8080/"
        },
        "id": "WCfqPLE8-bw6",
        "outputId": "9bfe9ace-8856-4f18-d128-6dbdfda259d1"
      },
      "outputs": [
        {
          "output_type": "execute_result",
          "data": {
            "text/plain": [
              "57              YearMade\n",
              "6            ProductSize\n",
              "30        Coupler_System\n",
              "7     fiProductClassDesc\n",
              "31        Grouser_Tracks\n",
              "             ...        \n",
              "53             MachineID\n",
              "5      fiModelDescriptor\n",
              "23            Hydraulics\n",
              "11          Drive_System\n",
              "28             Tire_Size\n",
              "Name: cols, Length: 21, dtype: object"
            ]
          },
          "metadata": {},
          "execution_count": 54
        }
      ],
      "source": [
        "# Removing the low importance feature\n",
        "keep = fi[fi.imp>0.005].cols\n",
        "keep"
      ]
    },
    {
      "cell_type": "code",
      "execution_count": 55,
      "metadata": {
        "execution": {
          "iopub.execute_input": "2023-06-27T09:59:54.016241Z",
          "iopub.status.busy": "2023-06-27T09:59:54.014194Z",
          "iopub.status.idle": "2023-06-27T09:59:54.036999Z",
          "shell.execute_reply": "2023-06-27T09:59:54.036095Z",
          "shell.execute_reply.started": "2023-06-27T09:59:54.016198Z"
        },
        "trusted": true,
        "id": "0qgu_lu9-bw6"
      },
      "outputs": [],
      "source": [
        "xs_imp = xs[keep]\n",
        "valid_xs_imp  =valid_xs[keep]"
      ]
    },
    {
      "cell_type": "code",
      "execution_count": 56,
      "metadata": {
        "execution": {
          "iopub.execute_input": "2023-06-27T09:59:54.039179Z",
          "iopub.status.busy": "2023-06-27T09:59:54.038535Z",
          "iopub.status.idle": "2023-06-27T10:00:14.762481Z",
          "shell.execute_reply": "2023-06-27T10:00:14.761519Z",
          "shell.execute_reply.started": "2023-06-27T09:59:54.039138Z"
        },
        "trusted": true,
        "id": "qMeOyuWO-bw6"
      },
      "outputs": [],
      "source": [
        "m = rf(xs_imp, y)"
      ]
    },
    {
      "cell_type": "code",
      "execution_count": 57,
      "metadata": {
        "execution": {
          "iopub.execute_input": "2023-06-27T10:00:14.764914Z",
          "iopub.status.busy": "2023-06-27T10:00:14.764178Z",
          "iopub.status.idle": "2023-06-27T10:00:15.987152Z",
          "shell.execute_reply": "2023-06-27T10:00:15.986242Z",
          "shell.execute_reply.started": "2023-06-27T10:00:14.764852Z"
        },
        "trusted": true,
        "colab": {
          "base_uri": "https://localhost:8080/"
        },
        "id": "WYwJtmQW-bw6",
        "outputId": "8f4494e1-9d12-4ecc-f5bc-9da2acc4279f"
      },
      "outputs": [
        {
          "output_type": "execute_result",
          "data": {
            "text/plain": [
              "(0.181718, 0.234163)"
            ]
          },
          "metadata": {},
          "execution_count": 57
        }
      ],
      "source": [
        "m_rmse(m, xs_imp, y), m_rmse(m, valid_xs_imp, valid_y)"
      ]
    },
    {
      "cell_type": "code",
      "execution_count": 58,
      "metadata": {
        "execution": {
          "iopub.execute_input": "2023-06-27T10:00:15.989094Z",
          "iopub.status.busy": "2023-06-27T10:00:15.988735Z",
          "iopub.status.idle": "2023-06-27T10:00:15.997604Z",
          "shell.execute_reply": "2023-06-27T10:00:15.996413Z",
          "shell.execute_reply.started": "2023-06-27T10:00:15.989063Z"
        },
        "trusted": true,
        "colab": {
          "base_uri": "https://localhost:8080/"
        },
        "id": "BOJmK4mx-bw7",
        "outputId": "527fb074-d24a-4b11-bda7-512e743a53e7"
      },
      "outputs": [
        {
          "output_type": "execute_result",
          "data": {
            "text/plain": [
              "(66, 21)"
            ]
          },
          "metadata": {},
          "execution_count": 58
        }
      ],
      "source": [
        "len(xs.columns), len(xs_imp.columns)"
      ]
    },
    {
      "cell_type": "code",
      "execution_count": 59,
      "metadata": {
        "execution": {
          "iopub.execute_input": "2023-06-27T10:00:15.999738Z",
          "iopub.status.busy": "2023-06-27T10:00:15.999269Z",
          "iopub.status.idle": "2023-06-27T10:00:16.492478Z",
          "shell.execute_reply": "2023-06-27T10:00:16.491044Z",
          "shell.execute_reply.started": "2023-06-27T10:00:15.999709Z"
        },
        "trusted": true,
        "colab": {
          "base_uri": "https://localhost:8080/",
          "height": 599
        },
        "id": "i-GJw5G3-bw7",
        "outputId": "152eaa4a-68ef-484d-e6dd-feb1f92f7fae"
      },
      "outputs": [
        {
          "output_type": "display_data",
          "data": {
            "text/plain": [
              "<Figure size 1000x700 with 1 Axes>"
            ],
            "image/png": "[encoded data removed]"
          },
          "metadata": {}
        }
      ],
      "source": [
        "plot_fi(rf_feature_importance(m, xs_imp));"
      ]
    },
    {
      "cell_type": "code",
      "execution_count": 60,
      "metadata": {
        "execution": {
          "iopub.execute_input": "2023-06-27T10:00:16.495356Z",
          "iopub.status.busy": "2023-06-27T10:00:16.494514Z",
          "iopub.status.idle": "2023-06-27T10:00:23.351895Z",
          "shell.execute_reply": "2023-06-27T10:00:23.349164Z",
          "shell.execute_reply.started": "2023-06-27T10:00:16.495311Z"
        },
        "trusted": true,
        "colab": {
          "base_uri": "https://localhost:8080/"
        },
        "id": "mzJLX5qg-bw7",
        "outputId": "76cb7b6c-8095-4abf-a11c-46719cccbacc"
      },
      "outputs": [
        {
          "output_type": "execute_result",
          "data": {
            "text/plain": [
              "0.8762262610238839"
            ]
          },
          "metadata": {},
          "execution_count": 60
        }
      ],
      "source": [
        "def get_oob(df):\n",
        "    m = RandomForestRegressor (n_estimators=40, min_samples_leaf = 15, max_samples= 50000, max_features=0.5, n_jobs= -1, oob_score= True)\n",
        "    m.fit(df,y)\n",
        "    return m.oob_score_\n",
        "get_oob(xs_imp)"
      ]
    },
    {
      "cell_type": "code",
      "execution_count": 61,
      "metadata": {
        "execution": {
          "iopub.execute_input": "2023-06-27T10:00:23.353486Z",
          "iopub.status.busy": "2023-06-27T10:00:23.353168Z",
          "iopub.status.idle": "2023-06-27T10:01:28.464291Z",
          "shell.execute_reply": "2023-06-27T10:01:28.463155Z",
          "shell.execute_reply.started": "2023-06-27T10:00:23.353459Z"
        },
        "trusted": true,
        "colab": {
          "base_uri": "https://localhost:8080/"
        },
        "id": "VzLxCEMN-bw7",
        "outputId": "f30f3150-497a-4764-cc15-b1965980b0f7"
      },
      "outputs": [
        {
          "output_type": "execute_result",
          "data": {
            "text/plain": [
              "{'saleYear': 0.8753167343811106,\n",
              " 'saleElapsed': 0.8710568016408842,\n",
              " 'ProductGroupDesc': 0.8756178438854872,\n",
              " 'ProductGroup': 0.8759953327607057,\n",
              " 'fiModelDesc': 0.8739355237716953,\n",
              " 'fiBaseModel': 0.8751237738129299,\n",
              " 'Hydraulics_Flow': 0.8768622603256492,\n",
              " 'Grouser_Tracks': 0.8772599999633223,\n",
              " 'Coupler_System': 0.8759531375057359}"
            ]
          },
          "metadata": {},
          "execution_count": 61
        }
      ],
      "source": [
        "{c: get_oob(xs_imp.drop(c, axis=1)) for c in ('saleYear', 'saleElapsed', 'ProductGroupDesc','ProductGroup',\n",
        "    'fiModelDesc', 'fiBaseModel',\n",
        "    'Hydraulics_Flow','Grouser_Tracks', 'Coupler_System')}"
      ]
    },
    {
      "cell_type": "code",
      "execution_count": 62,
      "metadata": {
        "execution": {
          "iopub.execute_input": "2023-06-27T10:01:28.466419Z",
          "iopub.status.busy": "2023-06-27T10:01:28.466055Z",
          "iopub.status.idle": "2023-06-27T10:01:34.949565Z",
          "shell.execute_reply": "2023-06-27T10:01:34.948444Z",
          "shell.execute_reply.started": "2023-06-27T10:01:28.466384Z"
        },
        "trusted": true,
        "colab": {
          "base_uri": "https://localhost:8080/"
        },
        "id": "K0nre88K-bw7",
        "outputId": "f8ae8d7b-5fb5-494f-9a0d-121d93f1a8eb"
      },
      "outputs": [
        {
          "output_type": "execute_result",
          "data": {
            "text/plain": [
              "0.8729608294411803"
            ]
          },
          "metadata": {},
          "execution_count": 62
        }
      ],
      "source": [
        "to_drop = ['saleYear', 'ProductGroupDesc', 'fiBaseModel', 'Grouser_Tracks']\n",
        "get_oob(xs_imp.drop(to_drop, axis=1))"
      ]
    },
    {
      "cell_type": "code",
      "execution_count": 63,
      "metadata": {
        "execution": {
          "iopub.execute_input": "2023-06-27T10:01:34.951800Z",
          "iopub.status.busy": "2023-06-27T10:01:34.950963Z",
          "iopub.status.idle": "2023-06-27T10:01:34.965861Z",
          "shell.execute_reply": "2023-06-27T10:01:34.964703Z",
          "shell.execute_reply.started": "2023-06-27T10:01:34.951767Z"
        },
        "trusted": true,
        "id": "fkXNhMRN-bw7"
      },
      "outputs": [],
      "source": [
        "xs_final = xs_imp.drop(to_drop, axis = 1)\n",
        "valid_xs_final = valid_xs_imp.drop(to_drop, axis=1)"
      ]
    },
    {
      "cell_type": "code",
      "execution_count": 64,
      "metadata": {
        "execution": {
          "iopub.execute_input": "2023-06-27T10:01:34.968083Z",
          "iopub.status.busy": "2023-06-27T10:01:34.967698Z",
          "iopub.status.idle": "2023-06-27T10:01:34.995860Z",
          "shell.execute_reply": "2023-06-27T10:01:34.994654Z",
          "shell.execute_reply.started": "2023-06-27T10:01:34.968053Z"
        },
        "trusted": true,
        "id": "44V_GcM_-bw8"
      },
      "outputs": [],
      "source": [
        "save_pickle('xs_final.pkl', xs_final)\n",
        "save_pickle('vallid_xs_final.pkl', valid_xs_final)"
      ]
    },
    {
      "cell_type": "code",
      "execution_count": 65,
      "metadata": {
        "execution": {
          "iopub.execute_input": "2023-06-27T10:01:34.999114Z",
          "iopub.status.busy": "2023-06-27T10:01:34.997786Z",
          "iopub.status.idle": "2023-06-27T10:01:55.023767Z",
          "shell.execute_reply": "2023-06-27T10:01:55.022932Z",
          "shell.execute_reply.started": "2023-06-27T10:01:34.999067Z"
        },
        "trusted": true,
        "colab": {
          "base_uri": "https://localhost:8080/"
        },
        "id": "23ZbAw9G-bw8",
        "outputId": "443f80d6-cce5-4656-89e0-2293a1eb1e1d"
      },
      "outputs": [
        {
          "output_type": "execute_result",
          "data": {
            "text/plain": [
              "(0.183731, 0.233461)"
            ]
          },
          "metadata": {},
          "execution_count": 65
        }
      ],
      "source": [
        "m = rf(xs_final, y)\n",
        "m_rmse(m, xs_final, y), m_rmse(m, valid_xs_final, valid_y)"
      ]
    },
    {
      "cell_type": "code",
      "execution_count": 66,
      "metadata": {
        "execution": {
          "iopub.execute_input": "2023-06-27T10:01:55.026450Z",
          "iopub.status.busy": "2023-06-27T10:01:55.025966Z",
          "iopub.status.idle": "2023-06-27T10:01:55.552313Z",
          "shell.execute_reply": "2023-06-27T10:01:55.550926Z",
          "shell.execute_reply.started": "2023-06-27T10:01:55.026406Z"
        },
        "trusted": true,
        "colab": {
          "base_uri": "https://localhost:8080/",
          "height": 690
        },
        "id": "ZYks7H9I-bw8",
        "outputId": "ee6a6fb6-587f-4151-cf2b-3f4e42915c24"
      },
      "outputs": [
        {
          "output_type": "execute_result",
          "data": {
            "text/plain": [
              "([<matplotlib.axis.YTick at 0x7fc02cae5360>,\n",
              "  <matplotlib.axis.YTick at 0x7fc02cae4d00>,\n",
              "  <matplotlib.axis.YTick at 0x7fc02cae7f70>,\n",
              "  <matplotlib.axis.YTick at 0x7fc02cb1d510>,\n",
              "  <matplotlib.axis.YTick at 0x7fc02cb1dcf0>,\n",
              "  <matplotlib.axis.YTick at 0x7fc02cb1e7a0>,\n",
              "  <matplotlib.axis.YTick at 0x7fc02cb1f250>],\n",
              " [Text(0, 0, '#na#'),\n",
              "  Text(0, 1, 'Large'),\n",
              "  Text(0, 2, 'Large/Medium'),\n",
              "  Text(0, 3, 'Medium'),\n",
              "  Text(0, 4, 'Small'),\n",
              "  Text(0, 5, 'Mini'),\n",
              "  Text(0, 6, 'Compact')])"
            ]
          },
          "metadata": {},
          "execution_count": 66
        },
        {
          "output_type": "display_data",
          "data": {
            "text/plain": [
              "<Figure size 640x480 with 1 Axes>"
            ],
            "image/png": "[encoded data removed]"
          },
          "metadata": {}
        }
      ],
      "source": [
        "#count of values per category\n",
        "p = valid_xs_final['ProductSize'].value_counts(sort=False).plot.barh()\n",
        "c = to.classes['ProductSize']\n",
        "plt.yticks(range(len(c)), c)"
      ]
    },
    {
      "cell_type": "code",
      "execution_count": 67,
      "metadata": {
        "execution": {
          "iopub.execute_input": "2023-06-27T10:01:55.554939Z",
          "iopub.status.busy": "2023-06-27T10:01:55.553936Z",
          "iopub.status.idle": "2023-06-27T10:01:55.858683Z",
          "shell.execute_reply": "2023-06-27T10:01:55.857603Z",
          "shell.execute_reply.started": "2023-06-27T10:01:55.554867Z"
        },
        "trusted": true,
        "colab": {
          "base_uri": "https://localhost:8080/",
          "height": 430
        },
        "id": "KHVMkR_Q-bw8",
        "outputId": "a392875e-34ba-4e99-857c-03e10912d427"
      },
      "outputs": [
        {
          "output_type": "display_data",
          "data": {
            "text/plain": [
              "<Figure size 640x480 with 1 Axes>"
            ],
            "image/png": "[encoded data removed]"
          },
          "metadata": {}
        }
      ],
      "source": [
        "ax = valid_xs_final['YearMade'].hist()"
      ]
    },
    {
      "cell_type": "code",
      "execution_count": 68,
      "metadata": {
        "execution": {
          "iopub.execute_input": "2023-06-27T10:01:55.860499Z",
          "iopub.status.busy": "2023-06-27T10:01:55.860146Z",
          "iopub.status.idle": "2023-06-27T10:02:11.179506Z",
          "shell.execute_reply": "2023-06-27T10:02:11.177964Z",
          "shell.execute_reply.started": "2023-06-27T10:01:55.860469Z"
        },
        "trusted": true,
        "colab": {
          "base_uri": "https://localhost:8080/"
        },
        "id": "yo_6N9oW-bw8",
        "outputId": "c3651d4d-39ab-45fa-de46-67f76f3b2204"
      },
      "outputs": [
        {
          "output_type": "stream",
          "name": "stdout",
          "text": [
            "Requirement already satisfied: scikit-learn in /usr/local/lib/python3.10/dist-packages (1.2.2)\n",
            "Requirement already satisfied: numpy>=1.17.3 in /usr/local/lib/python3.10/dist-packages (from scikit-learn) (1.22.4)\n",
            "Requirement already satisfied: scipy>=1.3.2 in /usr/local/lib/python3.10/dist-packages (from scikit-learn) (1.10.1)\n",
            "Requirement already satisfied: joblib>=1.1.1 in /usr/local/lib/python3.10/dist-packages (from scikit-learn) (1.2.0)\n",
            "Requirement already satisfied: threadpoolctl>=2.0.0 in /usr/local/lib/python3.10/dist-packages (from scikit-learn) (3.1.0)\n"
          ]
        }
      ],
      "source": [
        "!pip install --upgrade scikit-learn"
      ]
    },
    {
      "cell_type": "code",
      "execution_count": 69,
      "metadata": {
        "execution": {
          "iopub.execute_input": "2023-06-27T10:02:11.183941Z",
          "iopub.status.busy": "2023-06-27T10:02:11.183450Z",
          "iopub.status.idle": "2023-06-27T10:02:12.222390Z",
          "shell.execute_reply": "2023-06-27T10:02:12.220521Z",
          "shell.execute_reply.started": "2023-06-27T10:02:11.183874Z"
        },
        "trusted": true,
        "colab": {
          "base_uri": "https://localhost:8080/",
          "height": 388
        },
        "id": "12XrN9ft-bw8",
        "outputId": "2556a481-5842-413e-b4a1-d0deb72146d3"
      },
      "outputs": [
        {
          "output_type": "display_data",
          "data": {
            "text/plain": [
              "<Figure size 1200x400 with 3 Axes>"
            ],
            "image/png": "[encoded data removed]"
          },
          "metadata": {}
        }
      ],
      "source": [
        "from sklearn.inspection import PartialDependenceDisplay\n",
        "\n",
        "\n",
        "fig,ax = plt.subplots(figsize=(12, 4))\n",
        "temp = PartialDependenceDisplay.from_estimator(m, valid_xs_final, ['YearMade','ProductSize'],\n",
        "                        grid_resolution=20, ax = ax)\n",
        "# print(type(temp))\n",
        "# print(temp)"
      ]
    },
    {
      "cell_type": "code",
      "execution_count": 70,
      "metadata": {
        "execution": {
          "iopub.execute_input": "2023-06-27T10:02:12.225601Z",
          "iopub.status.busy": "2023-06-27T10:02:12.224511Z",
          "iopub.status.idle": "2023-06-27T10:02:42.673827Z",
          "shell.execute_reply": "2023-06-27T10:02:42.672340Z",
          "shell.execute_reply.started": "2023-06-27T10:02:12.225557Z"
        },
        "trusted": true,
        "colab": {
          "base_uri": "https://localhost:8080/"
        },
        "id": "eyDu3W3G-bw9",
        "outputId": "d12843f5-f77c-460e-91c4-82c38c60655d"
      },
      "outputs": [
        {
          "output_type": "stream",
          "name": "stdout",
          "text": [
            "Collecting treeinterpreter\n",
            "  Downloading treeinterpreter-0.2.3-py2.py3-none-any.whl (6.0 kB)\n",
            "Installing collected packages: treeinterpreter\n",
            "Successfully installed treeinterpreter-0.2.3\n",
            "Collecting waterfallcharts\n",
            "  Downloading waterfallcharts-3.8.tar.gz (3.9 kB)\n",
            "  Preparing metadata (setup.py) ... \u001b[?25l\u001b[?25hdone\n",
            "Building wheels for collected packages: waterfallcharts\n",
            "  Building wheel for waterfallcharts (setup.py) ... \u001b[?25l\u001b[?25hdone\n",
            "  Created wheel for waterfallcharts: filename=waterfallcharts-3.8-py3-none-any.whl size=3389 sha256=559b16aba736963a82e84653dd8b0c672787c92260cc08a008e5a70ffa89aded\n",
            "  Stored in directory: /root/.cache/pip/wheels/bd/34/6c/58fce34a3b8ec5607aff650db14ceb41db8223ac217423371b\n",
            "Successfully built waterfallcharts\n",
            "Installing collected packages: waterfallcharts\n",
            "Successfully installed waterfallcharts-3.8\n"
          ]
        }
      ],
      "source": [
        "!pip install treeinterpreter\n",
        "!pip install waterfallcharts"
      ]
    },
    {
      "cell_type": "markdown",
      "metadata": {
        "id": "CGcU0fsB-bw9"
      },
      "source": [
        "## Feature importance for individual example"
      ]
    },
    {
      "cell_type": "code",
      "execution_count": 71,
      "metadata": {
        "execution": {
          "iopub.execute_input": "2023-06-27T10:02:42.676775Z",
          "iopub.status.busy": "2023-06-27T10:02:42.676268Z",
          "iopub.status.idle": "2023-06-27T10:02:42.684527Z",
          "shell.execute_reply": "2023-06-27T10:02:42.683300Z",
          "shell.execute_reply.started": "2023-06-27T10:02:42.676726Z"
        },
        "trusted": true,
        "id": "5qNAsaCP-bw9"
      },
      "outputs": [],
      "source": [
        "# !pip install warnings\n",
        "import warnings\n",
        "warnings.simplefilter('ignore', FutureWarning)"
      ]
    },
    {
      "cell_type": "code",
      "execution_count": 72,
      "metadata": {
        "execution": {
          "iopub.execute_input": "2023-06-27T10:02:42.687531Z",
          "iopub.status.busy": "2023-06-27T10:02:42.686547Z",
          "iopub.status.idle": "2023-06-27T10:02:42.707224Z",
          "shell.execute_reply": "2023-06-27T10:02:42.704829Z",
          "shell.execute_reply.started": "2023-06-27T10:02:42.687273Z"
        },
        "trusted": true,
        "id": "JkREDX-6-bw9"
      },
      "outputs": [],
      "source": [
        "from treeinterpreter import treeinterpreter\n",
        "from waterfall_chart import plot as waterfall"
      ]
    },
    {
      "cell_type": "code",
      "execution_count": 73,
      "metadata": {
        "execution": {
          "iopub.execute_input": "2023-06-27T10:02:42.717748Z",
          "iopub.status.busy": "2023-06-27T10:02:42.715332Z",
          "iopub.status.idle": "2023-06-27T10:02:42.723352Z",
          "shell.execute_reply": "2023-06-27T10:02:42.722289Z",
          "shell.execute_reply.started": "2023-06-27T10:02:42.717705Z"
        },
        "trusted": true,
        "id": "AAsq7ELg-bw9"
      },
      "outputs": [],
      "source": [
        "row = valid_xs_final.iloc[:5]"
      ]
    },
    {
      "cell_type": "raw",
      "metadata": {
        "id": "bmGGuLhi-bw-"
      },
      "source": [
        "row"
      ]
    },
    {
      "cell_type": "code",
      "execution_count": 74,
      "metadata": {
        "execution": {
          "iopub.execute_input": "2023-06-27T10:02:42.729251Z",
          "iopub.status.busy": "2023-06-27T10:02:42.724820Z",
          "iopub.status.idle": "2023-06-27T10:02:42.767331Z",
          "shell.execute_reply": "2023-06-27T10:02:42.765298Z",
          "shell.execute_reply.started": "2023-06-27T10:02:42.729171Z"
        },
        "trusted": true,
        "colab": {
          "base_uri": "https://localhost:8080/",
          "height": 235
        },
        "id": "iNePltuc-bw-",
        "outputId": "4cecc8e2-e81b-43d3-f5a4-1fdeaa3ad12d"
      },
      "outputs": [
        {
          "output_type": "execute_result",
          "data": {
            "text/plain": [
              "       YearMade  ProductSize  Coupler_System  fiProductClassDesc  ...  \\\n",
              "22915      1950            3               0                  48  ...   \n",
              "22916      2006            0               0                   2  ...   \n",
              "22917      2006            0               2                  41  ...   \n",
              "22918      2003            0               2                  44  ...   \n",
              "22919      2007            0               0                   1  ...   \n",
              "\n",
              "       fiModelDescriptor  Hydraulics  Drive_System  Tire_Size  \n",
              "22915                  0           1             0          0  \n",
              "22916                 17           0             2          0  \n",
              "22917                  0           4             0          0  \n",
              "22918                  0           4             0          0  \n",
              "22919                  0           0             2          0  \n",
              "\n",
              "[5 rows x 17 columns]"
            ],
            "text/html": [
              "\n",
              "  <div id=\"df-1b95604d-2149-41ab-bc64-84466cdd7c00\">\n",
              "    <div class=\"colab-df-container\">\n",
              "      <div>\n",
              "<style scoped>\n",
              "    .dataframe tbody tr th:only-of-type {\n",
              "        vertical-align: middle;\n",
              "    }\n",
              "\n",
              "    .dataframe tbody tr th {\n",
              "        vertical-align: top;\n",
              "    }\n",
              "\n",
              "    .dataframe thead th {\n",
              "        text-align: right;\n",
              "    }\n",
              "</style>\n",
              "<table border=\"1\" class=\"dataframe\">\n",
              "  <thead>\n",
              "    <tr style=\"text-align: right;\">\n",
              "      <th></th>\n",
              "      <th>YearMade</th>\n",
              "      <th>ProductSize</th>\n",
              "      <th>Coupler_System</th>\n",
              "      <th>fiProductClassDesc</th>\n",
              "      <th>...</th>\n",
              "      <th>fiModelDescriptor</th>\n",
              "      <th>Hydraulics</th>\n",
              "      <th>Drive_System</th>\n",
              "      <th>Tire_Size</th>\n",
              "    </tr>\n",
              "  </thead>\n",
              "  <tbody>\n",
              "    <tr>\n",
              "      <th>22915</th>\n",
              "      <td>1950</td>\n",
              "      <td>3</td>\n",
              "      <td>0</td>\n",
              "      <td>48</td>\n",
              "      <td>...</td>\n",
              "      <td>0</td>\n",
              "      <td>1</td>\n",
              "      <td>0</td>\n",
              "      <td>0</td>\n",
              "    </tr>\n",
              "    <tr>\n",
              "      <th>22916</th>\n",
              "      <td>2006</td>\n",
              "      <td>0</td>\n",
              "      <td>0</td>\n",
              "      <td>2</td>\n",
              "      <td>...</td>\n",
              "      <td>17</td>\n",
              "      <td>0</td>\n",
              "      <td>2</td>\n",
              "      <td>0</td>\n",
              "    </tr>\n",
              "    <tr>\n",
              "      <th>22917</th>\n",
              "      <td>2006</td>\n",
              "      <td>0</td>\n",
              "      <td>2</td>\n",
              "      <td>41</td>\n",
              "      <td>...</td>\n",
              "      <td>0</td>\n",
              "      <td>4</td>\n",
              "      <td>0</td>\n",
              "      <td>0</td>\n",
              "    </tr>\n",
              "    <tr>\n",
              "      <th>22918</th>\n",
              "      <td>2003</td>\n",
              "      <td>0</td>\n",
              "      <td>2</td>\n",
              "      <td>44</td>\n",
              "      <td>...</td>\n",
              "      <td>0</td>\n",
              "      <td>4</td>\n",
              "      <td>0</td>\n",
              "      <td>0</td>\n",
              "    </tr>\n",
              "    <tr>\n",
              "      <th>22919</th>\n",
              "      <td>2007</td>\n",
              "      <td>0</td>\n",
              "      <td>0</td>\n",
              "      <td>1</td>\n",
              "      <td>...</td>\n",
              "      <td>0</td>\n",
              "      <td>0</td>\n",
              "      <td>2</td>\n",
              "      <td>0</td>\n",
              "    </tr>\n",
              "  </tbody>\n",
              "</table>\n",
              "<p>5 rows × 17 columns</p>\n",
              "</div>\n",
              "      <button class=\"colab-df-convert\" onclick=\"convertToInteractive('df-1b95604d-2149-41ab-bc64-84466cdd7c00')\"\n",
              "              title=\"Convert this dataframe to an interactive table.\"\n",
              "              style=\"display:none;\">\n",
              "        \n",
              "  <svg xmlns=\"http://www.w3.org/2000/svg\" height=\"24px\"viewBox=\"0 0 24 24\"\n",
              "       width=\"24px\">\n",
              "    <path d=\"M0 0h24v24H0V0z\" fill=\"none\"/>\n",
              "    <path d=\"M18.56 5.44l.94 2.06.94-2.06 2.06-.94-2.06-.94-.94-2.06-.94 2.06-2.06.94zm-11 1L8.5 8.5l.94-2.06 2.06-.94-2.06-.94L8.5 2.5l-.94 2.06-2.06.94zm10 10l.94 2.06.94-2.06 2.06-.94-2.06-.94-.94-2.06-.94 2.06-2.06.94z\"/><path d=\"M17.41 7.96l-1.37-1.37c-.4-.4-.92-.59-1.43-.59-.52 0-1.04.2-1.43.59L10.3 9.45l-7.72 7.72c-.78.78-.78 2.05 0 2.83L4 21.41c.39.39.9.59 1.41.59.51 0 1.02-.2 1.41-.59l7.78-7.78 2.81-2.81c.8-.78.8-2.07 0-2.86zM5.41 20L4 18.59l7.72-7.72 1.47 1.35L5.41 20z\"/>\n",
              "  </svg>\n",
              "      </button>\n",
              "      \n",
              "  <style>\n",
              "    .colab-df-container {\n",
              "      display:flex;\n",
              "      flex-wrap:wrap;\n",
              "      gap: 12px;\n",
              "    }\n",
              "\n",
              "    .colab-df-convert {\n",
              "      background-color: #E8F0FE;\n",
              "      border: none;\n",
              "      border-radius: 50%;\n",
              "      cursor: pointer;\n",
              "      display: none;\n",
              "      fill: #1967D2;\n",
              "      height: 32px;\n",
              "      padding: 0 0 0 0;\n",
              "      width: 32px;\n",
              "    }\n",
              "\n",
              "    .colab-df-convert:hover {\n",
              "      background-color: #E2EBFA;\n",
              "      box-shadow: 0px 1px 2px rgba(60, 64, 67, 0.3), 0px 1px 3px 1px rgba(60, 64, 67, 0.15);\n",
              "      fill: #174EA6;\n",
              "    }\n",
              "\n",
              "    [theme=dark] .colab-df-convert {\n",
              "      background-color: #3B4455;\n",
              "      fill: #D2E3FC;\n",
              "    }\n",
              "\n",
              "    [theme=dark] .colab-df-convert:hover {\n",
              "      background-color: #434B5C;\n",
              "      box-shadow: 0px 1px 3px 1px rgba(0, 0, 0, 0.15);\n",
              "      filter: drop-shadow(0px 1px 2px rgba(0, 0, 0, 0.3));\n",
              "      fill: #FFFFFF;\n",
              "    }\n",
              "  </style>\n",
              "\n",
              "      <script>\n",
              "        const buttonEl =\n",
              "          document.querySelector('#df-1b95604d-2149-41ab-bc64-84466cdd7c00 button.colab-df-convert');\n",
              "        buttonEl.style.display =\n",
              "          google.colab.kernel.accessAllowed ? 'block' : 'none';\n",
              "\n",
              "        async function convertToInteractive(key) {\n",
              "          const element = document.querySelector('#df-1b95604d-2149-41ab-bc64-84466cdd7c00');\n",
              "          const dataTable =\n",
              "            await google.colab.kernel.invokeFunction('convertToInteractive',\n",
              "                                                     [key], {});\n",
              "          if (!dataTable) return;\n",
              "\n",
              "          const docLinkHtml = 'Like what you see? Visit the ' +\n",
              "            '<a target=\"_blank\" href=https://colab.research.google.com/notebooks/data_table.ipynb>data table notebook</a>'\n",
              "            + ' to learn more about interactive tables.';\n",
              "          element.innerHTML = '';\n",
              "          dataTable['output_type'] = 'display_data';\n",
              "          await google.colab.output.renderOutput(dataTable, element);\n",
              "          const docLink = document.createElement('div');\n",
              "          docLink.innerHTML = docLinkHtml;\n",
              "          element.appendChild(docLink);\n",
              "        }\n",
              "      </script>\n",
              "    </div>\n",
              "  </div>\n",
              "  "
            ]
          },
          "metadata": {},
          "execution_count": 74
        }
      ],
      "source": [
        "row"
      ]
    },
    {
      "cell_type": "code",
      "execution_count": 75,
      "metadata": {
        "execution": {
          "iopub.execute_input": "2023-06-27T10:02:42.774541Z",
          "iopub.status.busy": "2023-06-27T10:02:42.773704Z",
          "iopub.status.idle": "2023-06-27T10:02:55.821756Z",
          "shell.execute_reply": "2023-06-27T10:02:55.820945Z",
          "shell.execute_reply.started": "2023-06-27T10:02:42.774492Z"
        },
        "trusted": true,
        "id": "SvIhasVt-bw-"
      },
      "outputs": [],
      "source": [
        "predictions, bias,contributions = treeinterpreter.predict(m, row.values)"
      ]
    },
    {
      "cell_type": "code",
      "execution_count": 76,
      "metadata": {
        "execution": {
          "iopub.execute_input": "2023-06-27T10:02:55.823518Z",
          "iopub.status.busy": "2023-06-27T10:02:55.823183Z",
          "iopub.status.idle": "2023-06-27T10:02:55.831221Z",
          "shell.execute_reply": "2023-06-27T10:02:55.830103Z",
          "shell.execute_reply.started": "2023-06-27T10:02:55.823489Z"
        },
        "trusted": true,
        "colab": {
          "base_uri": "https://localhost:8080/"
        },
        "id": "6nqRl_fA-bw-",
        "outputId": "e1809004-a606-4f0d-ab2a-c871da045658"
      },
      "outputs": [
        {
          "output_type": "execute_result",
          "data": {
            "text/plain": [
              "(array([10.04021095]), 10.104300979932189, -0.06409002718479634)"
            ]
          },
          "metadata": {},
          "execution_count": 76
        }
      ],
      "source": [
        "predictions[0], bias[0],contributions[0].sum()"
      ]
    },
    {
      "cell_type": "code",
      "execution_count": 77,
      "metadata": {
        "execution": {
          "iopub.execute_input": "2023-06-27T10:02:55.832828Z",
          "iopub.status.busy": "2023-06-27T10:02:55.832508Z",
          "iopub.status.idle": "2023-06-27T10:02:56.368856Z",
          "shell.execute_reply": "2023-06-27T10:02:56.367765Z",
          "shell.execute_reply.started": "2023-06-27T10:02:55.832799Z"
        },
        "trusted": true,
        "colab": {
          "base_uri": "https://localhost:8080/",
          "height": 487
        },
        "id": "jEhOFntl-bw-",
        "outputId": "eabe1a99-7599-4c9c-9102-890f85779a4f"
      },
      "outputs": [
        {
          "output_type": "display_data",
          "data": {
            "text/plain": [
              "<Figure size 640x480 with 1 Axes>"
            ],
            "image/png": "[encoded data removed]"
          },
          "metadata": {}
        }
      ],
      "source": [
        "waterfall(valid_xs_final.columns, contributions[0], threshold=0.08,\n",
        "          rotation_value=45,formatting='{:,.3f}');"
      ]
    },
    {
      "cell_type": "code",
      "execution_count": 78,
      "metadata": {
        "execution": {
          "iopub.execute_input": "2023-06-27T10:02:56.371191Z",
          "iopub.status.busy": "2023-06-27T10:02:56.370337Z",
          "iopub.status.idle": "2023-06-27T10:02:56.452641Z",
          "shell.execute_reply": "2023-06-27T10:02:56.451797Z",
          "shell.execute_reply.started": "2023-06-27T10:02:56.371158Z"
        },
        "trusted": true,
        "id": "L7_0GRmW-bw-"
      },
      "outputs": [],
      "source": [
        "df_dom = pd.concat([xs_final, valid_xs_final])\n",
        "is_valid = np.array([0]*len(xs_final) + [1]*len(valid_xs_final))"
      ]
    },
    {
      "cell_type": "code",
      "execution_count": 79,
      "metadata": {
        "execution": {
          "iopub.execute_input": "2023-06-27T10:03:45.260580Z",
          "iopub.status.busy": "2023-06-27T10:03:45.260012Z",
          "iopub.status.idle": "2023-06-27T10:03:49.894372Z",
          "shell.execute_reply": "2023-06-27T10:03:49.893046Z",
          "shell.execute_reply.started": "2023-06-27T10:03:45.260533Z"
        },
        "trusted": true,
        "colab": {
          "base_uri": "https://localhost:8080/",
          "height": 237
        },
        "id": "K2HOmFKv-bw_",
        "outputId": "2fc8f110-c6c7-4554-95db-81028b09ffbe"
      },
      "outputs": [
        {
          "output_type": "execute_result",
          "data": {
            "text/plain": [
              "           cols       imp\n",
              "5   saleElapsed  0.919561\n",
              "10      SalesID  0.067580\n",
              "12    MachineID  0.007730\n",
              "0      YearMade  0.002070\n",
              "4       ModelID  0.000782\n",
              "9     Enclosure  0.000413"
            ],
            "text/html": [
              "\n",
              "  <div id=\"df-3c3c204a-ebab-4724-b5f6-e591d9b04478\">\n",
              "    <div class=\"colab-df-container\">\n",
              "      <div>\n",
              "<style scoped>\n",
              "    .dataframe tbody tr th:only-of-type {\n",
              "        vertical-align: middle;\n",
              "    }\n",
              "\n",
              "    .dataframe tbody tr th {\n",
              "        vertical-align: top;\n",
              "    }\n",
              "\n",
              "    .dataframe thead th {\n",
              "        text-align: right;\n",
              "    }\n",
              "</style>\n",
              "<table border=\"1\" class=\"dataframe\">\n",
              "  <thead>\n",
              "    <tr style=\"text-align: right;\">\n",
              "      <th></th>\n",
              "      <th>cols</th>\n",
              "      <th>imp</th>\n",
              "    </tr>\n",
              "  </thead>\n",
              "  <tbody>\n",
              "    <tr>\n",
              "      <th>5</th>\n",
              "      <td>saleElapsed</td>\n",
              "      <td>0.919561</td>\n",
              "    </tr>\n",
              "    <tr>\n",
              "      <th>10</th>\n",
              "      <td>SalesID</td>\n",
              "      <td>0.067580</td>\n",
              "    </tr>\n",
              "    <tr>\n",
              "      <th>12</th>\n",
              "      <td>MachineID</td>\n",
              "      <td>0.007730</td>\n",
              "    </tr>\n",
              "    <tr>\n",
              "      <th>0</th>\n",
              "      <td>YearMade</td>\n",
              "      <td>0.002070</td>\n",
              "    </tr>\n",
              "    <tr>\n",
              "      <th>4</th>\n",
              "      <td>ModelID</td>\n",
              "      <td>0.000782</td>\n",
              "    </tr>\n",
              "    <tr>\n",
              "      <th>9</th>\n",
              "      <td>Enclosure</td>\n",
              "      <td>0.000413</td>\n",
              "    </tr>\n",
              "  </tbody>\n",
              "</table>\n",
              "</div>\n",
              "      <button class=\"colab-df-convert\" onclick=\"convertToInteractive('df-3c3c204a-ebab-4724-b5f6-e591d9b04478')\"\n",
              "              title=\"Convert this dataframe to an interactive table.\"\n",
              "              style=\"display:none;\">\n",
              "        \n",
              "  <svg xmlns=\"http://www.w3.org/2000/svg\" height=\"24px\"viewBox=\"0 0 24 24\"\n",
              "       width=\"24px\">\n",
              "    <path d=\"M0 0h24v24H0V0z\" fill=\"none\"/>\n",
              "    <path d=\"M18.56 5.44l.94 2.06.94-2.06 2.06-.94-2.06-.94-.94-2.06-.94 2.06-2.06.94zm-11 1L8.5 8.5l.94-2.06 2.06-.94-2.06-.94L8.5 2.5l-.94 2.06-2.06.94zm10 10l.94 2.06.94-2.06 2.06-.94-2.06-.94-.94-2.06-.94 2.06-2.06.94z\"/><path d=\"M17.41 7.96l-1.37-1.37c-.4-.4-.92-.59-1.43-.59-.52 0-1.04.2-1.43.59L10.3 9.45l-7.72 7.72c-.78.78-.78 2.05 0 2.83L4 21.41c.39.39.9.59 1.41.59.51 0 1.02-.2 1.41-.59l7.78-7.78 2.81-2.81c.8-.78.8-2.07 0-2.86zM5.41 20L4 18.59l7.72-7.72 1.47 1.35L5.41 20z\"/>\n",
              "  </svg>\n",
              "      </button>\n",
              "      \n",
              "  <style>\n",
              "    .colab-df-container {\n",
              "      display:flex;\n",
              "      flex-wrap:wrap;\n",
              "      gap: 12px;\n",
              "    }\n",
              "\n",
              "    .colab-df-convert {\n",
              "      background-color: #E8F0FE;\n",
              "      border: none;\n",
              "      border-radius: 50%;\n",
              "      cursor: pointer;\n",
              "      display: none;\n",
              "      fill: #1967D2;\n",
              "      height: 32px;\n",
              "      padding: 0 0 0 0;\n",
              "      width: 32px;\n",
              "    }\n",
              "\n",
              "    .colab-df-convert:hover {\n",
              "      background-color: #E2EBFA;\n",
              "      box-shadow: 0px 1px 2px rgba(60, 64, 67, 0.3), 0px 1px 3px 1px rgba(60, 64, 67, 0.15);\n",
              "      fill: #174EA6;\n",
              "    }\n",
              "\n",
              "    [theme=dark] .colab-df-convert {\n",
              "      background-color: #3B4455;\n",
              "      fill: #D2E3FC;\n",
              "    }\n",
              "\n",
              "    [theme=dark] .colab-df-convert:hover {\n",
              "      background-color: #434B5C;\n",
              "      box-shadow: 0px 1px 3px 1px rgba(0, 0, 0, 0.15);\n",
              "      filter: drop-shadow(0px 1px 2px rgba(0, 0, 0, 0.3));\n",
              "      fill: #FFFFFF;\n",
              "    }\n",
              "  </style>\n",
              "\n",
              "      <script>\n",
              "        const buttonEl =\n",
              "          document.querySelector('#df-3c3c204a-ebab-4724-b5f6-e591d9b04478 button.colab-df-convert');\n",
              "        buttonEl.style.display =\n",
              "          google.colab.kernel.accessAllowed ? 'block' : 'none';\n",
              "\n",
              "        async function convertToInteractive(key) {\n",
              "          const element = document.querySelector('#df-3c3c204a-ebab-4724-b5f6-e591d9b04478');\n",
              "          const dataTable =\n",
              "            await google.colab.kernel.invokeFunction('convertToInteractive',\n",
              "                                                     [key], {});\n",
              "          if (!dataTable) return;\n",
              "\n",
              "          const docLinkHtml = 'Like what you see? Visit the ' +\n",
              "            '<a target=\"_blank\" href=https://colab.research.google.com/notebooks/data_table.ipynb>data table notebook</a>'\n",
              "            + ' to learn more about interactive tables.';\n",
              "          element.innerHTML = '';\n",
              "          dataTable['output_type'] = 'display_data';\n",
              "          await google.colab.output.renderOutput(dataTable, element);\n",
              "          const docLink = document.createElement('div');\n",
              "          docLink.innerHTML = docLinkHtml;\n",
              "          element.appendChild(docLink);\n",
              "        }\n",
              "      </script>\n",
              "    </div>\n",
              "  </div>\n",
              "  "
            ]
          },
          "metadata": {},
          "execution_count": 79
        }
      ],
      "source": [
        "m = rf(df_dom, is_valid)\n",
        "rf_feature_importance(m, df_dom)[:6]"
      ]
    },
    {
      "cell_type": "code",
      "execution_count": 80,
      "metadata": {
        "execution": {
          "iopub.execute_input": "2023-06-27T10:04:59.738448Z",
          "iopub.status.busy": "2023-06-27T10:04:59.737914Z",
          "iopub.status.idle": "2023-06-27T10:05:17.902816Z",
          "shell.execute_reply": "2023-06-27T10:05:17.901365Z",
          "shell.execute_reply.started": "2023-06-27T10:04:59.738405Z"
        },
        "trusted": true,
        "colab": {
          "base_uri": "https://localhost:8080/"
        },
        "id": "yKeNRTba-bw_",
        "outputId": "52740203-5419-4461-ee51-909a562fe270"
      },
      "outputs": [
        {
          "output_type": "stream",
          "name": "stdout",
          "text": [
            "orig 0.233716\n"
          ]
        }
      ],
      "source": [
        "m = rf(xs_final, y)\n",
        "print('orig', m_rmse(m, valid_xs_final, valid_y))\n"
      ]
    },
    {
      "cell_type": "code",
      "execution_count": 81,
      "metadata": {
        "execution": {
          "iopub.execute_input": "2023-06-27T10:07:51.622439Z",
          "iopub.status.busy": "2023-06-27T10:07:51.621996Z",
          "iopub.status.idle": "2023-06-27T10:08:41.161331Z",
          "shell.execute_reply": "2023-06-27T10:08:41.159944Z",
          "shell.execute_reply.started": "2023-06-27T10:07:51.622407Z"
        },
        "trusted": true,
        "colab": {
          "base_uri": "https://localhost:8080/"
        },
        "id": "6jogWh_l-bw_",
        "outputId": "d94cad93-b4e0-404a-9a00-bc019b68a396"
      },
      "outputs": [
        {
          "output_type": "stream",
          "name": "stdout",
          "text": [
            "SalesID 0.231404\n",
            "saleElapsed 0.236548\n",
            "MachineID 0.232554\n"
          ]
        }
      ],
      "source": [
        "for c in ('SalesID','saleElapsed','MachineID'):\n",
        "    m = rf(xs_final.drop(c,axis=1), y)\n",
        "    print(c, m_rmse(m, valid_xs_final.drop(c,axis=1), valid_y))"
      ]
    },
    {
      "cell_type": "markdown",
      "metadata": {
        "id": "400my5vg-bw_"
      },
      "source": [
        "As above indicated, we can remove SalesID, MachineID as by removing them, model performance elivates slighlty."
      ]
    },
    {
      "cell_type": "code",
      "execution_count": 82,
      "metadata": {
        "execution": {
          "iopub.execute_input": "2023-06-27T10:13:47.563585Z",
          "iopub.status.busy": "2023-06-27T10:13:47.563117Z",
          "iopub.status.idle": "2023-06-27T10:13:59.453812Z",
          "shell.execute_reply": "2023-06-27T10:13:59.452684Z",
          "shell.execute_reply.started": "2023-06-27T10:13:47.563549Z"
        },
        "trusted": true,
        "colab": {
          "base_uri": "https://localhost:8080/"
        },
        "id": "WtPTzpAt-bw_",
        "outputId": "8b7f8221-3dbb-403b-a78b-ce6f3fefeac2"
      },
      "outputs": [
        {
          "output_type": "execute_result",
          "data": {
            "text/plain": [
              "0.231191"
            ]
          },
          "metadata": {},
          "execution_count": 82
        }
      ],
      "source": [
        "time_vars = ['SalesID', 'MachineID']\n",
        "xs_final_time = xs_final.drop(time_vars, axis=1)\n",
        "valid_xs_final_time = valid_xs_final.drop(time_vars, axis=1)\n",
        "\n",
        "m = rf(xs_final_time, y)\n",
        "m_rmse(m, valid_xs_final_time, valid_y)"
      ]
    },
    {
      "cell_type": "code",
      "execution_count": 83,
      "metadata": {
        "execution": {
          "iopub.execute_input": "2023-06-27T10:16:22.916401Z",
          "iopub.status.busy": "2023-06-27T10:16:22.915730Z",
          "iopub.status.idle": "2023-06-27T10:16:23.253096Z",
          "shell.execute_reply": "2023-06-27T10:16:23.251978Z",
          "shell.execute_reply.started": "2023-06-27T10:16:22.916366Z"
        },
        "trusted": true,
        "colab": {
          "base_uri": "https://localhost:8080/",
          "height": 448
        },
        "id": "P54e_4z4-bw_",
        "outputId": "2d5859c1-b250-4370-9518-bcc6488b0de1"
      },
      "outputs": [
        {
          "output_type": "execute_result",
          "data": {
            "text/plain": [
              "<Axes: >"
            ]
          },
          "metadata": {},
          "execution_count": 83
        },
        {
          "output_type": "display_data",
          "data": {
            "text/plain": [
              "<Figure size 640x480 with 1 Axes>"
            ],
            "image/png": "[encoded data removed]"
          },
          "metadata": {}
        }
      ],
      "source": [
        "xs['saleYear'].hist()"
      ]
    },
    {
      "cell_type": "code",
      "execution_count": 84,
      "metadata": {
        "execution": {
          "iopub.execute_input": "2023-06-27T10:17:57.200145Z",
          "iopub.status.busy": "2023-06-27T10:17:57.199631Z",
          "iopub.status.idle": "2023-06-27T10:17:57.221026Z",
          "shell.execute_reply": "2023-06-27T10:17:57.219957Z",
          "shell.execute_reply.started": "2023-06-27T10:17:57.200104Z"
        },
        "trusted": true,
        "id": "2ok0YV6O-bxA"
      },
      "outputs": [],
      "source": [
        "filt = xs['saleYear']>2004\n",
        "xs_filt = xs_final_time[filt]\n",
        "y_filt = y[filt]"
      ]
    },
    {
      "cell_type": "code",
      "execution_count": 85,
      "metadata": {
        "execution": {
          "iopub.execute_input": "2023-06-27T10:19:11.371419Z",
          "iopub.status.busy": "2023-06-27T10:19:11.371020Z",
          "iopub.status.idle": "2023-06-27T10:19:20.219591Z",
          "shell.execute_reply": "2023-06-27T10:19:20.218593Z",
          "shell.execute_reply.started": "2023-06-27T10:19:11.371387Z"
        },
        "trusted": true,
        "colab": {
          "base_uri": "https://localhost:8080/"
        },
        "id": "Xh-1E9Rz-bxA",
        "outputId": "30874264-4518-4d75-fa36-615333cb35bc"
      },
      "outputs": [
        {
          "output_type": "execute_result",
          "data": {
            "text/plain": [
              "(0.230951, 0.178259)"
            ]
          },
          "metadata": {},
          "execution_count": 85
        }
      ],
      "source": [
        "m = rf(xs_filt, y_filt)\n",
        "m_rmse(m, valid_xs_final_time, valid_y), m_rmse(m, xs_filt, y_filt)\n",
        ""
      ]
    },
    {
      "cell_type": "markdown",
      "metadata": {
        "id": "2Zbh5RjC-bxA"
      },
      "source": [
        "# Neural Network"
      ]
    },
    {
      "cell_type": "code",
      "execution_count": 87,
      "metadata": {
        "execution": {
          "iopub.execute_input": "2023-06-27T10:21:46.989263Z",
          "iopub.status.busy": "2023-06-27T10:21:46.988899Z",
          "iopub.status.idle": "2023-06-27T10:21:51.344002Z",
          "shell.execute_reply": "2023-06-27T10:21:51.342915Z",
          "shell.execute_reply.started": "2023-06-27T10:21:46.989236Z"
        },
        "trusted": true,
        "id": "xeDa0RNC-bxA"
      },
      "outputs": [],
      "source": [
        "dataset_path = path/\"TrainAndValid.csv\"\n",
        "df_nn = pd.read_csv(dataset_path, low_memory= False)"
      ]
    },
    {
      "cell_type": "code",
      "execution_count": 88,
      "metadata": {
        "execution": {
          "iopub.execute_input": "2023-06-27T10:23:31.892851Z",
          "iopub.status.busy": "2023-06-27T10:23:31.892372Z",
          "iopub.status.idle": "2023-06-27T10:23:31.903121Z",
          "shell.execute_reply": "2023-06-27T10:23:31.901939Z",
          "shell.execute_reply.started": "2023-06-27T10:23:31.892812Z"
        },
        "trusted": true,
        "id": "RuEWsJya-bxB"
      },
      "outputs": [],
      "source": [
        "df_nn.ProductSize= df_nn.ProductSize.astype('category')\n",
        "df_nn['ProductSize'].cat.set_categories(sizes, inplace= True, ordered = True)"
      ]
    },
    {
      "cell_type": "code",
      "execution_count": 89,
      "metadata": {
        "execution": {
          "iopub.execute_input": "2023-06-27T10:24:38.969783Z",
          "iopub.status.busy": "2023-06-27T10:24:38.969245Z",
          "iopub.status.idle": "2023-06-27T10:24:40.400219Z",
          "shell.execute_reply": "2023-06-27T10:24:40.398927Z",
          "shell.execute_reply.started": "2023-06-27T10:24:38.969741Z"
        },
        "trusted": true,
        "id": "tW1fEVTg-bxB"
      },
      "outputs": [],
      "source": [
        "df_nn[dep_var] = np.log(df_nn[dep_var])\n",
        "df_nn = add_datepart(df_nn, 'saledate')"
      ]
    },
    {
      "cell_type": "code",
      "execution_count": 90,
      "metadata": {
        "execution": {
          "iopub.execute_input": "2023-06-27T10:25:37.054325Z",
          "iopub.status.busy": "2023-06-27T10:25:37.053499Z",
          "iopub.status.idle": "2023-06-27T10:25:37.133345Z",
          "shell.execute_reply": "2023-06-27T10:25:37.132418Z",
          "shell.execute_reply.started": "2023-06-27T10:25:37.054283Z"
        },
        "trusted": true,
        "id": "yUWGtTf5-bxB"
      },
      "outputs": [],
      "source": [
        "df_nn_final = df_nn[list(xs_final_time.columns) + [dep_var]]"
      ]
    },
    {
      "cell_type": "code",
      "execution_count": 91,
      "metadata": {
        "execution": {
          "iopub.execute_input": "2023-06-27T10:30:30.905315Z",
          "iopub.status.busy": "2023-06-27T10:30:30.904772Z",
          "iopub.status.idle": "2023-06-27T10:30:30.924286Z",
          "shell.execute_reply": "2023-06-27T10:30:30.923146Z",
          "shell.execute_reply.started": "2023-06-27T10:30:30.905273Z"
        },
        "trusted": true,
        "colab": {
          "base_uri": "https://localhost:8080/"
        },
        "id": "UbPO2vAY-bxB",
        "outputId": "a9e33fbb-7c8f-4bcd-bbe1-b14a0f818367"
      },
      "outputs": [
        {
          "output_type": "execute_result",
          "data": {
            "text/plain": [
              "(['saleElapsed'],\n",
              " ['YearMade',\n",
              "  'ProductSize',\n",
              "  'Coupler_System',\n",
              "  'fiProductClassDesc',\n",
              "  'ModelID',\n",
              "  'fiSecondaryDesc',\n",
              "  'fiModelDesc',\n",
              "  'Hydraulics_Flow',\n",
              "  'Enclosure',\n",
              "  'ProductGroup',\n",
              "  'fiModelDescriptor',\n",
              "  'Hydraulics',\n",
              "  'Drive_System',\n",
              "  'Tire_Size'])"
            ]
          },
          "metadata": {},
          "execution_count": 91
        }
      ],
      "source": [
        "cont_nn, cats_nn =cont_cat_split(df_nn_final, max_card = 9000, dep_var= dep_var)\n",
        "cont_nn, cats_nn"
      ]
    },
    {
      "cell_type": "code",
      "execution_count": 92,
      "metadata": {
        "execution": {
          "iopub.execute_input": "2023-06-27T10:32:45.839648Z",
          "iopub.status.busy": "2023-06-27T10:32:45.839221Z",
          "iopub.status.idle": "2023-06-27T10:32:46.274057Z",
          "shell.execute_reply": "2023-06-27T10:32:46.272853Z",
          "shell.execute_reply.started": "2023-06-27T10:32:45.839614Z"
        },
        "trusted": true,
        "colab": {
          "base_uri": "https://localhost:8080/"
        },
        "id": "zOdCN7v5-bxC",
        "outputId": "a79e4e65-1d1d-47e7-a761-239410fd1a1a"
      },
      "outputs": [
        {
          "output_type": "execute_result",
          "data": {
            "text/plain": [
              "YearMade                73\n",
              "ProductSize              5\n",
              "Coupler_System           2\n",
              "fiProductClassDesc      74\n",
              "ModelID               5281\n",
              "fiSecondaryDesc        177\n",
              "fiModelDesc           5059\n",
              "Hydraulics_Flow          3\n",
              "Enclosure                6\n",
              "ProductGroup             6\n",
              "fiModelDescriptor      140\n",
              "Hydraulics              12\n",
              "Drive_System             4\n",
              "Tire_Size               17\n",
              "dtype: int64"
            ]
          },
          "metadata": {},
          "execution_count": 92
        }
      ],
      "source": [
        "df_nn_final[cats_nn].nunique()"
      ]
    },
    {
      "cell_type": "code",
      "execution_count": 93,
      "metadata": {
        "execution": {
          "iopub.execute_input": "2023-06-27T10:37:45.218843Z",
          "iopub.status.busy": "2023-06-27T10:37:45.218439Z",
          "iopub.status.idle": "2023-06-27T10:37:54.274306Z",
          "shell.execute_reply": "2023-06-27T10:37:54.273287Z",
          "shell.execute_reply.started": "2023-06-27T10:37:45.218811Z"
        },
        "trusted": true,
        "colab": {
          "base_uri": "https://localhost:8080/"
        },
        "id": "-Eo9F4qN-bxC",
        "outputId": "b8ae9d30-6426-4759-89f5-f11f25f436a0"
      },
      "outputs": [
        {
          "output_type": "execute_result",
          "data": {
            "text/plain": [
              "(0.177104, 0.23151)"
            ]
          },
          "metadata": {},
          "execution_count": 93
        }
      ],
      "source": [
        "xs_filt2 = xs_filt.drop('fiModelDescriptor', axis=1)\n",
        "valid_xs_time2 = valid_xs_final_time.drop('fiModelDescriptor', axis=1)\n",
        "m2 = rf(xs_filt2, y_filt)\n",
        "m_rmse(m2, xs_filt2, y_filt), m_rmse(m2, valid_xs_time2, valid_y)"
      ]
    },
    {
      "cell_type": "code",
      "execution_count": 94,
      "metadata": {
        "execution": {
          "iopub.execute_input": "2023-06-27T10:41:26.016817Z",
          "iopub.status.busy": "2023-06-27T10:41:26.016006Z",
          "iopub.status.idle": "2023-06-27T10:41:35.014133Z",
          "shell.execute_reply": "2023-06-27T10:41:35.012968Z",
          "shell.execute_reply.started": "2023-06-27T10:41:26.016779Z"
        },
        "trusted": true,
        "id": "HGy8is8p-bxC"
      },
      "outputs": [],
      "source": [
        "# xs_filt3 = xs_filt.drop('fiModelDesc', axis=1)\n",
        "# valid_xs_time3 = valid_xs_final_time.drop('fiModelDesc', axis=1)\n",
        "# m3 = rf(xs_filt2, y_filt)\n",
        "# m_rmse(m2, xs_filt2, y_filt), m_rmse(m2, valid_xs_time2, valid_y)\n",
        "\n"
      ]
    },
    {
      "cell_type": "code",
      "execution_count": 95,
      "metadata": {
        "execution": {
          "iopub.execute_input": "2023-06-27T10:42:27.268093Z",
          "iopub.status.busy": "2023-06-27T10:42:27.267411Z",
          "iopub.status.idle": "2023-06-27T10:42:27.272894Z",
          "shell.execute_reply": "2023-06-27T10:42:27.272091Z",
          "shell.execute_reply.started": "2023-06-27T10:42:27.268051Z"
        },
        "trusted": true,
        "id": "IjRKf68J-bxC"
      },
      "outputs": [],
      "source": [
        "cats_nn.remove('fiModelDescriptor')"
      ]
    },
    {
      "cell_type": "code",
      "execution_count": 96,
      "metadata": {
        "execution": {
          "iopub.execute_input": "2023-06-27T10:44:38.883357Z",
          "iopub.status.busy": "2023-06-27T10:44:38.882812Z",
          "iopub.status.idle": "2023-06-27T10:44:39.716989Z",
          "shell.execute_reply": "2023-06-27T10:44:39.716064Z",
          "shell.execute_reply.started": "2023-06-27T10:44:38.883316Z"
        },
        "trusted": true,
        "id": "pq2oiOgh-bxC"
      },
      "outputs": [],
      "source": [
        "pocs_nn = [Categorify, FillMissing, Normalize]\n",
        "to_nn = TabularPandas(df_nn_final, pocs_nn, cats_nn, cont_nn, splits= splits, y_names= dep_var)"
      ]
    },
    {
      "cell_type": "code",
      "execution_count": 97,
      "metadata": {
        "execution": {
          "iopub.execute_input": "2023-06-27T10:44:56.505187Z",
          "iopub.status.busy": "2023-06-27T10:44:56.504486Z",
          "iopub.status.idle": "2023-06-27T10:44:56.564355Z",
          "shell.execute_reply": "2023-06-27T10:44:56.563542Z",
          "shell.execute_reply.started": "2023-06-27T10:44:56.505154Z"
        },
        "trusted": true,
        "id": "8iZpSeRR-bxC"
      },
      "outputs": [],
      "source": [
        "dls = to_nn.dataloaders(1024)"
      ]
    },
    {
      "cell_type": "code",
      "execution_count": 98,
      "metadata": {
        "execution": {
          "iopub.execute_input": "2023-06-27T10:45:31.357982Z",
          "iopub.status.busy": "2023-06-27T10:45:31.357131Z",
          "iopub.status.idle": "2023-06-27T10:45:31.370176Z",
          "shell.execute_reply": "2023-06-27T10:45:31.368960Z",
          "shell.execute_reply.started": "2023-06-27T10:45:31.357944Z"
        },
        "trusted": true,
        "colab": {
          "base_uri": "https://localhost:8080/"
        },
        "id": "BvNTw1Hc-bxC",
        "outputId": "f103c793-4bf7-41d3-f13b-40136043de8e"
      },
      "outputs": [
        {
          "output_type": "execute_result",
          "data": {
            "text/plain": [
              "(8.465899, 11.863583)"
            ]
          },
          "metadata": {},
          "execution_count": 98
        }
      ],
      "source": [
        "y = to_nn.train.y\n",
        "y.min(), y.max()"
      ]
    },
    {
      "cell_type": "code",
      "execution_count": 99,
      "metadata": {
        "execution": {
          "iopub.execute_input": "2023-06-27T10:49:42.507344Z",
          "iopub.status.busy": "2023-06-27T10:49:42.506925Z",
          "iopub.status.idle": "2023-06-27T10:49:51.162915Z",
          "shell.execute_reply": "2023-06-27T10:49:51.161674Z",
          "shell.execute_reply.started": "2023-06-27T10:49:42.507316Z"
        },
        "trusted": true,
        "colab": {
          "base_uri": "https://localhost:8080/",
          "height": 472
        },
        "id": "NFkt7FXc-bxD",
        "outputId": "e2c96212-7b15-4f24-8f03-3b7cc1132a9b"
      },
      "outputs": [
        {
          "output_type": "display_data",
          "data": {
            "text/plain": [
              "<IPython.core.display.HTML object>"
            ],
            "text/html": [
              "\n",
              "<style>\n",
              "    /* Turns off some styling */\n",
              "    progress {\n",
              "        /* gets rid of default border in Firefox and Opera. */\n",
              "        border: none;\n",
              "        /* Needs to be in here for Safari polyfill so background images work as expected. */\n",
              "        background-size: auto;\n",
              "    }\n",
              "    progress:not([value]), progress:not([value])::-webkit-progress-bar {\n",
              "        background: repeating-linear-gradient(45deg, #7e7e7e, #7e7e7e 10px, #5c5c5c 10px, #5c5c5c 20px);\n",
              "    }\n",
              "    .progress-bar-interrupted, .progress-bar-interrupted::-webkit-progress-bar {\n",
              "        background: #F44336;\n",
              "    }\n",
              "</style>\n"
            ]
          },
          "metadata": {}
        },
        {
          "output_type": "display_data",
          "data": {
            "text/plain": [
              "<IPython.core.display.HTML object>"
            ],
            "text/html": []
          },
          "metadata": {}
        },
        {
          "output_type": "execute_result",
          "data": {
            "text/plain": [
              "SuggestedLRs(valley=0.0002754228771664202)"
            ]
          },
          "metadata": {},
          "execution_count": 99
        },
        {
          "output_type": "display_data",
          "data": {
            "text/plain": [
              "<Figure size 640x480 with 1 Axes>"
            ],
            "image/png": "[encoded data removed]"
          },
          "metadata": {}
        }
      ],
      "source": [
        "learn = tabular_learner(dls, y_range=(8,12), layers=[500,200], n_out=1, loss_func = F.mse_loss)\n",
        "learn.lr_find()"
      ]
    },
    {
      "cell_type": "code",
      "execution_count": 100,
      "metadata": {
        "execution": {
          "iopub.execute_input": "2023-06-27T10:50:06.509223Z",
          "iopub.status.busy": "2023-06-27T10:50:06.508800Z",
          "iopub.status.idle": "2023-06-27T10:52:20.916416Z",
          "shell.execute_reply": "2023-06-27T10:52:20.915550Z",
          "shell.execute_reply.started": "2023-06-27T10:50:06.509188Z"
        },
        "trusted": true,
        "colab": {
          "base_uri": "https://localhost:8080/",
          "height": 206
        },
        "id": "cxxXC2vx-bxD",
        "outputId": "96ae97f1-4145-46fe-c505-60a8290d07f5"
      },
      "outputs": [
        {
          "output_type": "display_data",
          "data": {
            "text/plain": [
              "<IPython.core.display.HTML object>"
            ],
            "text/html": [
              "\n",
              "<style>\n",
              "    /* Turns off some styling */\n",
              "    progress {\n",
              "        /* gets rid of default border in Firefox and Opera. */\n",
              "        border: none;\n",
              "        /* Needs to be in here for Safari polyfill so background images work as expected. */\n",
              "        background-size: auto;\n",
              "    }\n",
              "    progress:not([value]), progress:not([value])::-webkit-progress-bar {\n",
              "        background: repeating-linear-gradient(45deg, #7e7e7e, #7e7e7e 10px, #5c5c5c 10px, #5c5c5c 20px);\n",
              "    }\n",
              "    .progress-bar-interrupted, .progress-bar-interrupted::-webkit-progress-bar {\n",
              "        background: #F44336;\n",
              "    }\n",
              "</style>\n"
            ]
          },
          "metadata": {}
        },
        {
          "output_type": "display_data",
          "data": {
            "text/plain": [
              "<IPython.core.display.HTML object>"
            ],
            "text/html": [
              "<table border=\"1\" class=\"dataframe\">\n",
              "  <thead>\n",
              "    <tr style=\"text-align: left;\">\n",
              "      <th>epoch</th>\n",
              "      <th>train_loss</th>\n",
              "      <th>valid_loss</th>\n",
              "      <th>time</th>\n",
              "    </tr>\n",
              "  </thead>\n",
              "  <tbody>\n",
              "    <tr>\n",
              "      <td>0</td>\n",
              "      <td>0.061159</td>\n",
              "      <td>0.082921</td>\n",
              "      <td>00:05</td>\n",
              "    </tr>\n",
              "    <tr>\n",
              "      <td>1</td>\n",
              "      <td>0.053136</td>\n",
              "      <td>0.056992</td>\n",
              "      <td>00:04</td>\n",
              "    </tr>\n",
              "    <tr>\n",
              "      <td>2</td>\n",
              "      <td>0.048194</td>\n",
              "      <td>0.053553</td>\n",
              "      <td>00:04</td>\n",
              "    </tr>\n",
              "    <tr>\n",
              "      <td>3</td>\n",
              "      <td>0.042993</td>\n",
              "      <td>0.051723</td>\n",
              "      <td>00:05</td>\n",
              "    </tr>\n",
              "    <tr>\n",
              "      <td>4</td>\n",
              "      <td>0.040084</td>\n",
              "      <td>0.050174</td>\n",
              "      <td>00:04</td>\n",
              "    </tr>\n",
              "  </tbody>\n",
              "</table>"
            ]
          },
          "metadata": {}
        }
      ],
      "source": [
        "learn.fit_one_cycle(5, 1e-2)"
      ]
    },
    {
      "cell_type": "code",
      "execution_count": 101,
      "metadata": {
        "execution": {
          "iopub.execute_input": "2023-06-27T10:52:56.179665Z",
          "iopub.status.busy": "2023-06-27T10:52:56.179177Z",
          "iopub.status.idle": "2023-06-27T10:52:56.393530Z",
          "shell.execute_reply": "2023-06-27T10:52:56.392646Z",
          "shell.execute_reply.started": "2023-06-27T10:52:56.179623Z"
        },
        "trusted": true,
        "colab": {
          "base_uri": "https://localhost:8080/",
          "height": 35
        },
        "id": "uA3otpYl-bxD",
        "outputId": "431a85be-b1db-4e42-9503-b4937fe433d5"
      },
      "outputs": [
        {
          "output_type": "display_data",
          "data": {
            "text/plain": [
              "<IPython.core.display.HTML object>"
            ],
            "text/html": [
              "\n",
              "<style>\n",
              "    /* Turns off some styling */\n",
              "    progress {\n",
              "        /* gets rid of default border in Firefox and Opera. */\n",
              "        border: none;\n",
              "        /* Needs to be in here for Safari polyfill so background images work as expected. */\n",
              "        background-size: auto;\n",
              "    }\n",
              "    progress:not([value]), progress:not([value])::-webkit-progress-bar {\n",
              "        background: repeating-linear-gradient(45deg, #7e7e7e, #7e7e7e 10px, #5c5c5c 10px, #5c5c5c 20px);\n",
              "    }\n",
              "    .progress-bar-interrupted, .progress-bar-interrupted::-webkit-progress-bar {\n",
              "        background: #F44336;\n",
              "    }\n",
              "</style>\n"
            ]
          },
          "metadata": {}
        },
        {
          "output_type": "display_data",
          "data": {
            "text/plain": [
              "<IPython.core.display.HTML object>"
            ],
            "text/html": []
          },
          "metadata": {}
        },
        {
          "output_type": "execute_result",
          "data": {
            "text/plain": [
              "0.223995"
            ]
          },
          "metadata": {},
          "execution_count": 101
        }
      ],
      "source": [
        "preds, targs = learn.get_preds()\n",
        "r_mse(preds, targs)"
      ]
    },
    {
      "cell_type": "code",
      "execution_count": 102,
      "metadata": {
        "execution": {
          "iopub.execute_input": "2023-06-27T10:53:34.024258Z",
          "iopub.status.busy": "2023-06-27T10:53:34.023848Z",
          "iopub.status.idle": "2023-06-27T10:53:34.102756Z",
          "shell.execute_reply": "2023-06-27T10:53:34.101663Z",
          "shell.execute_reply.started": "2023-06-27T10:53:34.024229Z"
        },
        "trusted": true,
        "colab": {
          "base_uri": "https://localhost:8080/"
        },
        "id": "QXBN-Bav-bxD",
        "outputId": "b4e80166-6b70-40f0-8a1a-192603c8d3a3"
      },
      "outputs": [
        {
          "output_type": "execute_result",
          "data": {
            "text/plain": [
              "Path('models/nn.pth')"
            ]
          },
          "metadata": {},
          "execution_count": 102
        }
      ],
      "source": [
        "learn.save('nn')"
      ]
    },
    {
      "cell_type": "code",
      "execution_count": 103,
      "metadata": {
        "execution": {
          "iopub.execute_input": "2023-06-27T10:58:20.470933Z",
          "iopub.status.busy": "2023-06-27T10:58:20.470240Z",
          "iopub.status.idle": "2023-06-27T10:58:20.497232Z",
          "shell.execute_reply": "2023-06-27T10:58:20.495999Z",
          "shell.execute_reply.started": "2023-06-27T10:58:20.470871Z"
        },
        "trusted": true,
        "id": "jicPIhIV-bxD"
      },
      "outputs": [],
      "source": [
        "tabular_learner??"
      ]
    },
    {
      "cell_type": "code",
      "execution_count": 104,
      "metadata": {
        "execution": {
          "iopub.execute_input": "2023-06-27T11:05:31.679574Z",
          "iopub.status.busy": "2023-06-27T11:05:31.679178Z",
          "iopub.status.idle": "2023-06-27T11:05:31.731395Z",
          "shell.execute_reply": "2023-06-27T11:05:31.730404Z",
          "shell.execute_reply.started": "2023-06-27T11:05:31.679543Z"
        },
        "trusted": true,
        "id": "Eg3H_GtP-bxD"
      },
      "outputs": [],
      "source": [
        "rf_preds = m.predict(valid_xs_final_time)\n",
        "ens_preds = (to_np(preds.squeeze()) + rf_preds) /2"
      ]
    },
    {
      "cell_type": "markdown",
      "metadata": {
        "id": "ryBoZnaM-bxE"
      },
      "source": [
        "## best result so far"
      ]
    },
    {
      "cell_type": "code",
      "execution_count": 105,
      "metadata": {
        "execution": {
          "iopub.execute_input": "2023-06-27T11:06:08.882768Z",
          "iopub.status.busy": "2023-06-27T11:06:08.882367Z",
          "iopub.status.idle": "2023-06-27T11:06:08.891058Z",
          "shell.execute_reply": "2023-06-27T11:06:08.889968Z",
          "shell.execute_reply.started": "2023-06-27T11:06:08.882737Z"
        },
        "trusted": true,
        "colab": {
          "base_uri": "https://localhost:8080/"
        },
        "id": "1fVe05GM-bxE",
        "outputId": "aa4261b4-98ad-4d0b-9f10-e1ba7183a1ca"
      },
      "outputs": [
        {
          "output_type": "execute_result",
          "data": {
            "text/plain": [
              "0.22219"
            ]
          },
          "metadata": {},
          "execution_count": 105
        }
      ],
      "source": [
        "r_mse(ens_preds,valid_y)"
      ]
    },
    {
      "cell_type": "markdown",
      "source": [],
      "metadata": {
        "id": "Egv2LQQOGg6Y"
      }
    },
    {
      "cell_type": "code",
      "execution_count": 106,
      "metadata": {
        "id": "Fsoero-y-bxE"
      },
      "outputs": [],
      "source": [
        "# tst_df = pd.read_csv(path/'test.csv')\n",
        "# tst_df['Fare'] = tst_df.Fare.fillna(0)\n",
        "# add_features(tst_df)"
      ]
    },
    {
      "cell_type": "code",
      "execution_count": 107,
      "metadata": {
        "id": "_zdi_LLE-bxE"
      },
      "outputs": [],
      "source": [
        "# tst_dl = learn.dls.test_dl(tst_df)"
      ]
    },
    {
      "cell_type": "code",
      "execution_count": 108,
      "metadata": {
        "id": "VE1-A4GD-bxE"
      },
      "outputs": [],
      "source": [
        "# preds,_ = learn.get_preds(dl=tst_dl)"
      ]
    },
    {
      "cell_type": "code",
      "execution_count": 109,
      "metadata": {
        "id": "eOAxPgk0-bxE"
      },
      "outputs": [],
      "source": [
        "# tst_df['Survived'] = (preds[:,1]>0.5).int()\n",
        "# sub_df = tst_df[['PassengerId','Survived']]\n",
        "# sub_df.to_csv('sub.csv', index=False)"
      ]
    }
  ],
  "metadata": {
    "kernelspec": {
      "display_name": "Python 3",
      "name": "python3"
    },
    "language_info": {
      "codemirror_mode": {
        "name": "ipython",
        "version": 3
      },
      "file_extension": ".py",
      "mimetype": "text/x-python",
      "name": "python",
      "nbconvert_exporter": "python",
      "pygments_lexer": "ipython3",
      "version": "3.6.4"
    },
    "colab": {
      "provenance": [],
      "gpuType": "T4"
    },
    "accelerator": "GPU"
  },
  "nbformat": 4,
  "nbformat_minor": 0
}